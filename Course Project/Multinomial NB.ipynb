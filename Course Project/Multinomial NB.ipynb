{
 "cells": [
  {
   "cell_type": "code",
   "execution_count": 1,
   "metadata": {
    "collapsed": true
   },
   "outputs": [],
   "source": [
    "'''Import all necessary library files'''\n",
    "from collections import Counter\n",
    "import glob\n",
    "import hashlib\n",
    "import io\n",
    "import math\n",
    "import matplotlib.pyplot as plt\n",
    "import numpy as np\n",
    "import os\n",
    "import re\n",
    "import string\n",
    "from sklearn.cross_validation import KFold\n",
    "from sklearn.feature_extraction.text import CountVectorizer\n",
    "from sklearn.linear_model import LogisticRegression\n",
    "from sklearn.metrics import accuracy_score\n",
    "from sklearn.svm import LinearSVC\n",
    "from sklearn.metrics import classification_report,confusion_matrix\n",
    "from sklearn.cross_validation import train_test_split\n",
    "from nltk.classify.scikitlearn import SklearnClassifier\n",
    "import pandas as pd\n",
    "%matplotlib inline\n",
    "from sklearn.naive_bayes import BernoulliNB\n",
    "from sklearn.naive_bayes import MultinomialNB\n",
    "import metacritic\n",
    "import pickle\n",
    "import pandas as pd\n",
    "import shutil"
   ]
  },
  {
   "cell_type": "code",
   "execution_count": 2,
   "metadata": {
    "collapsed": false
   },
   "outputs": [
    {
     "data": {
      "text/html": [
       "<div>\n",
       "<table border=\"1\" class=\"dataframe\">\n",
       "  <thead>\n",
       "    <tr style=\"text-align: right;\">\n",
       "      <th></th>\n",
       "      <th>﻿Review</th>\n",
       "      <th>Sentiment</th>\n",
       "    </tr>\n",
       "  </thead>\n",
       "  <tbody>\n",
       "    <tr>\n",
       "      <th>0</th>\n",
       "      <td>That such intelligence could be contained in a...</td>\n",
       "      <td>100</td>\n",
       "    </tr>\n",
       "    <tr>\n",
       "      <th>1</th>\n",
       "      <td>Shines with a kind of inspired madness.</td>\n",
       "      <td>100</td>\n",
       "    </tr>\n",
       "    <tr>\n",
       "      <th>2</th>\n",
       "      <td>Here is the most passionate and tender love st...</td>\n",
       "      <td>100</td>\n",
       "    </tr>\n",
       "    <tr>\n",
       "      <th>3</th>\n",
       "      <td>One of the greatest of all American films, but...</td>\n",
       "      <td>100</td>\n",
       "    </tr>\n",
       "    <tr>\n",
       "      <th>4</th>\n",
       "      <td>A remarkable film.</td>\n",
       "      <td>100</td>\n",
       "    </tr>\n",
       "  </tbody>\n",
       "</table>\n",
       "</div>"
      ],
      "text/plain": [
       "                                             ﻿Review  Sentiment\n",
       "0  That such intelligence could be contained in a...        100\n",
       "1            Shines with a kind of inspired madness.        100\n",
       "2  Here is the most passionate and tender love st...        100\n",
       "3  One of the greatest of all American films, but...        100\n",
       "4                                 A remarkable film.        100"
      ]
     },
     "execution_count": 2,
     "metadata": {},
     "output_type": "execute_result"
    }
   ],
   "source": [
    "df = pd.read_csv(\"reviews.txt\",sep='\\t')\n",
    "df.head()"
   ]
  },
  {
   "cell_type": "code",
   "execution_count": 3,
   "metadata": {
    "collapsed": false
   },
   "outputs": [
    {
     "data": {
      "text/html": [
       "<div>\n",
       "<table border=\"1\" class=\"dataframe\">\n",
       "  <thead>\n",
       "    <tr style=\"text-align: right;\">\n",
       "      <th></th>\n",
       "      <th>﻿Review</th>\n",
       "      <th>Sentiment</th>\n",
       "    </tr>\n",
       "  </thead>\n",
       "  <tbody>\n",
       "    <tr>\n",
       "      <th>44004</th>\n",
       "      <td>The lack of imagination in Stargate is distres...</td>\n",
       "      <td>25</td>\n",
       "    </tr>\n",
       "    <tr>\n",
       "      <th>44005</th>\n",
       "      <td>Oz the Great and Powerful is an oppressive, bl...</td>\n",
       "      <td>25</td>\n",
       "    </tr>\n",
       "    <tr>\n",
       "      <th>44006</th>\n",
       "      <td>It is a grand-looking, grandly empty pageant.</td>\n",
       "      <td>25</td>\n",
       "    </tr>\n",
       "    <tr>\n",
       "      <th>44007</th>\n",
       "      <td>There’s exactly one good scene in all of The H...</td>\n",
       "      <td>25</td>\n",
       "    </tr>\n",
       "    <tr>\n",
       "      <th>44008</th>\n",
       "      <td>Man on a Ledge just made me think of an old Va...</td>\n",
       "      <td>25</td>\n",
       "    </tr>\n",
       "  </tbody>\n",
       "</table>\n",
       "</div>"
      ],
      "text/plain": [
       "                                                 ﻿Review  Sentiment\n",
       "44004  The lack of imagination in Stargate is distres...         25\n",
       "44005  Oz the Great and Powerful is an oppressive, bl...         25\n",
       "44006      It is a grand-looking, grandly empty pageant.         25\n",
       "44007  There’s exactly one good scene in all of The H...         25\n",
       "44008  Man on a Ledge just made me think of an old Va...         25"
      ]
     },
     "execution_count": 3,
     "metadata": {},
     "output_type": "execute_result"
    }
   ],
   "source": [
    "df.tail()"
   ]
  },
  {
   "cell_type": "code",
   "execution_count": 4,
   "metadata": {
    "collapsed": false
   },
   "outputs": [
    {
     "data": {
      "text/html": [
       "<div>\n",
       "<table border=\"1\" class=\"dataframe\">\n",
       "  <thead>\n",
       "    <tr style=\"text-align: right;\">\n",
       "      <th></th>\n",
       "      <th>Sentiment</th>\n",
       "    </tr>\n",
       "  </thead>\n",
       "  <tbody>\n",
       "    <tr>\n",
       "      <th>count</th>\n",
       "      <td>43909.000000</td>\n",
       "    </tr>\n",
       "    <tr>\n",
       "      <th>mean</th>\n",
       "      <td>62.551140</td>\n",
       "    </tr>\n",
       "    <tr>\n",
       "      <th>std</th>\n",
       "      <td>22.785175</td>\n",
       "    </tr>\n",
       "    <tr>\n",
       "      <th>min</th>\n",
       "      <td>0.000000</td>\n",
       "    </tr>\n",
       "    <tr>\n",
       "      <th>25%</th>\n",
       "      <td>50.000000</td>\n",
       "    </tr>\n",
       "    <tr>\n",
       "      <th>50%</th>\n",
       "      <td>63.000000</td>\n",
       "    </tr>\n",
       "    <tr>\n",
       "      <th>75%</th>\n",
       "      <td>80.000000</td>\n",
       "    </tr>\n",
       "    <tr>\n",
       "      <th>max</th>\n",
       "      <td>100.000000</td>\n",
       "    </tr>\n",
       "  </tbody>\n",
       "</table>\n",
       "</div>"
      ],
      "text/plain": [
       "          Sentiment\n",
       "count  43909.000000\n",
       "mean      62.551140\n",
       "std       22.785175\n",
       "min        0.000000\n",
       "25%       50.000000\n",
       "50%       63.000000\n",
       "75%       80.000000\n",
       "max      100.000000"
      ]
     },
     "execution_count": 4,
     "metadata": {},
     "output_type": "execute_result"
    }
   ],
   "source": [
    "df.describe()"
   ]
  },
  {
   "cell_type": "markdown",
   "metadata": {},
   "source": [
    "**Data split into positive and negative:**\n",
    "\n",
    "We split our dataset by considering the reviews with scores above 65 to be Positive and those ones that are below 65 to be considered as negative and store them into two separate dataframes."
   ]
  },
  {
   "cell_type": "code",
   "execution_count": 5,
   "metadata": {
    "collapsed": false
   },
   "outputs": [
    {
     "data": {
      "text/html": [
       "<div>\n",
       "<table border=\"1\" class=\"dataframe\">\n",
       "  <thead>\n",
       "    <tr style=\"text-align: right;\">\n",
       "      <th></th>\n",
       "      <th>Sentiment</th>\n",
       "    </tr>\n",
       "  </thead>\n",
       "  <tbody>\n",
       "    <tr>\n",
       "      <th>count</th>\n",
       "      <td>21027.000000</td>\n",
       "    </tr>\n",
       "    <tr>\n",
       "      <th>mean</th>\n",
       "      <td>81.959623</td>\n",
       "    </tr>\n",
       "    <tr>\n",
       "      <th>std</th>\n",
       "      <td>9.922689</td>\n",
       "    </tr>\n",
       "    <tr>\n",
       "      <th>min</th>\n",
       "      <td>67.000000</td>\n",
       "    </tr>\n",
       "    <tr>\n",
       "      <th>25%</th>\n",
       "      <td>75.000000</td>\n",
       "    </tr>\n",
       "    <tr>\n",
       "      <th>50%</th>\n",
       "      <td>80.000000</td>\n",
       "    </tr>\n",
       "    <tr>\n",
       "      <th>75%</th>\n",
       "      <td>90.000000</td>\n",
       "    </tr>\n",
       "    <tr>\n",
       "      <th>max</th>\n",
       "      <td>100.000000</td>\n",
       "    </tr>\n",
       "  </tbody>\n",
       "</table>\n",
       "</div>"
      ],
      "text/plain": [
       "          Sentiment\n",
       "count  21027.000000\n",
       "mean      81.959623\n",
       "std        9.922689\n",
       "min       67.000000\n",
       "25%       75.000000\n",
       "50%       80.000000\n",
       "75%       90.000000\n",
       "max      100.000000"
      ]
     },
     "execution_count": 5,
     "metadata": {},
     "output_type": "execute_result"
    }
   ],
   "source": [
    "#split positive and negative reviews based on scores \n",
    "pos = df[df.Sentiment > 65]\n",
    "neg = df[df.Sentiment < 65]\n",
    "pos.describe()"
   ]
  },
  {
   "cell_type": "code",
   "execution_count": 6,
   "metadata": {
    "collapsed": false
   },
   "outputs": [
    {
     "data": {
      "text/html": [
       "<div>\n",
       "<table border=\"1\" class=\"dataframe\">\n",
       "  <thead>\n",
       "    <tr style=\"text-align: right;\">\n",
       "      <th></th>\n",
       "      <th>Sentiment</th>\n",
       "    </tr>\n",
       "  </thead>\n",
       "  <tbody>\n",
       "    <tr>\n",
       "      <th>count</th>\n",
       "      <td>22843.000000</td>\n",
       "    </tr>\n",
       "    <tr>\n",
       "      <th>mean</th>\n",
       "      <td>44.681434</td>\n",
       "    </tr>\n",
       "    <tr>\n",
       "      <th>std</th>\n",
       "      <td>15.531329</td>\n",
       "    </tr>\n",
       "    <tr>\n",
       "      <th>min</th>\n",
       "      <td>0.000000</td>\n",
       "    </tr>\n",
       "    <tr>\n",
       "      <th>25%</th>\n",
       "      <td>38.000000</td>\n",
       "    </tr>\n",
       "    <tr>\n",
       "      <th>50%</th>\n",
       "      <td>50.000000</td>\n",
       "    </tr>\n",
       "    <tr>\n",
       "      <th>75%</th>\n",
       "      <td>60.000000</td>\n",
       "    </tr>\n",
       "    <tr>\n",
       "      <th>max</th>\n",
       "      <td>63.000000</td>\n",
       "    </tr>\n",
       "  </tbody>\n",
       "</table>\n",
       "</div>"
      ],
      "text/plain": [
       "          Sentiment\n",
       "count  22843.000000\n",
       "mean      44.681434\n",
       "std       15.531329\n",
       "min        0.000000\n",
       "25%       38.000000\n",
       "50%       50.000000\n",
       "75%       60.000000\n",
       "max       63.000000"
      ]
     },
     "execution_count": 6,
     "metadata": {},
     "output_type": "execute_result"
    }
   ],
   "source": [
    "neg.describe()"
   ]
  },
  {
   "cell_type": "code",
   "execution_count": 7,
   "metadata": {
    "collapsed": true
   },
   "outputs": [],
   "source": [
    "'''Drop the Sentiment column from the dataframe'''\n",
    "pos = pos.drop('Sentiment', 1)\n",
    "neg = neg.drop('Sentiment',1)"
   ]
  },
  {
   "cell_type": "code",
   "execution_count": 9,
   "metadata": {
    "collapsed": false
   },
   "outputs": [
    {
     "name": "stdout",
     "output_type": "stream",
     "text": [
      "C:\\Users\\Praveen\\Desktop\\CS-579-Project\\data-MNB\\train\\pos\n"
     ]
    }
   ],
   "source": [
    "'''Create a folder called data-MNB in your working directory along with pos and neg sub folders present\n",
    "in both train and test folders. After creation navigate using cd command to the pos sub-folder under train. '''\n",
    "\n",
    "cd C:\\Users\\Praveen\\Desktop\\CS-579-Project\\data-MNB\\train\\pos"
   ]
  },
  {
   "cell_type": "code",
   "execution_count": 10,
   "metadata": {
    "collapsed": true
   },
   "outputs": [],
   "source": [
    "'''Storing each review from the positive dataframe into the positive sub-folder'''\n",
    "i=1\n",
    "for index, row in pos.iterrows():\n",
    "    if i > len(pos):\n",
    "        break\n",
    "    else:\n",
    "        f = open(str(i)+'.txt', 'w')\n",
    "        f.write(row[0])\n",
    "        f.close()\n",
    "        i+=1"
   ]
  },
  {
   "cell_type": "code",
   "execution_count": 11,
   "metadata": {
    "collapsed": false
   },
   "outputs": [
    {
     "name": "stdout",
     "output_type": "stream",
     "text": [
      "C:\\Users\\Praveen\\Desktop\\CS-579-Project\\data-MNB\\train\\neg\n"
     ]
    }
   ],
   "source": [
    "'''Navigate using cd command to the neg sub-folder under train'''\n",
    "cd C:\\Users\\Praveen\\Desktop\\CS-579-Project\\data-MNB\\train\\neg"
   ]
  },
  {
   "cell_type": "code",
   "execution_count": 12,
   "metadata": {
    "collapsed": true
   },
   "outputs": [],
   "source": [
    "'''Storing each review from the negative dataframe into the negative sub-folder as indepedant text files'''\n",
    "i=1\n",
    "for index, row in neg.iterrows():\n",
    "    if i > len(neg):\n",
    "        break\n",
    "    else:\n",
    "        f = open(str(i)+'.txt', 'w')\n",
    "        f.write(row[0])\n",
    "        f.close()\n",
    "        i+=1"
   ]
  },
  {
   "cell_type": "code",
   "execution_count": 15,
   "metadata": {
    "collapsed": false
   },
   "outputs": [
    {
     "name": "stdout",
     "output_type": "stream",
     "text": [
      "C:\\Users\\Praveen\\Desktop\\CS-579-Project\n"
     ]
    }
   ],
   "source": [
    "'''Back up again to your working directory using triple cd '''\n",
    "cd .."
   ]
  },
  {
   "cell_type": "code",
   "execution_count": 16,
   "metadata": {
    "collapsed": false
   },
   "outputs": [
    {
     "name": "stdout",
     "output_type": "stream",
     "text": [
      "subdirectories are:['test', 'train']\n"
     ]
    }
   ],
   "source": [
    "'''Setting path and listing out the sub-directories in the specified path'''\n",
    "\n",
    "path = 'data-MNB'\n",
    "print('subdirectories are:' + str(os.listdir(path)))"
   ]
  },
  {
   "cell_type": "code",
   "execution_count": 17,
   "metadata": {
    "collapsed": true
   },
   "outputs": [],
   "source": [
    "def get_files(path):\n",
    "    \"\"\" Return a list of file names in this directory that end in .txt \n",
    "    The list should be sorted alphabetically by file name.\n",
    "    Params:\n",
    "        path....a directory containing .txt review files.\n",
    "    Returns:\n",
    "        a list of .txt file names, sorted alphabetically.\n",
    "    \"\"\"\n",
    "    files = os.listdir(path)\n",
    "    res=[]\n",
    "    for f in files:\n",
    "        if f.endswith('.txt'):\n",
    "                res.append((path + os.sep + f))\n",
    "    return sorted(res)"
   ]
  },
  {
   "cell_type": "code",
   "execution_count": 18,
   "metadata": {
    "collapsed": false
   },
   "outputs": [
    {
     "name": "stdout",
     "output_type": "stream",
     "text": [
      "21027\n",
      "22843\n"
     ]
    }
   ],
   "source": [
    "'''Print the length of positive and negative files before splitting test data'''\n",
    "pos_train = get_files(path + os.sep + 'train' + os.sep + 'pos')\n",
    "neg_train = get_files(path + os.sep + 'train' + os.sep + 'neg')\n",
    "all_train = pos_train + neg_train\n",
    "print len(pos_train)\n",
    "print len(neg_train)"
   ]
  },
  {
   "cell_type": "code",
   "execution_count": 19,
   "metadata": {
    "collapsed": true
   },
   "outputs": [],
   "source": [
    "'''Split testing data from the whole dataset'''\n",
    "for i in range(18001,len(pos_train)+1): \n",
    "    shutil.move(\"data-MNB/train/pos/\" + str(i)+'.txt', \"data-MNB/test/pos/\" + str(i)+'.txt')\n",
    "for i in range(18001,len(neg_train)+1):\n",
    "    shutil.move(\"data-MNB/train/neg/\" + str(i)+'.txt', \"data-MNB/test/neg/\" + str(i)+'.txt')"
   ]
  },
  {
   "cell_type": "code",
   "execution_count": 20,
   "metadata": {
    "collapsed": false
   },
   "outputs": [
    {
     "name": "stdout",
     "output_type": "stream",
     "text": [
      "18000\n",
      "18000\n"
     ]
    }
   ],
   "source": [
    "'''Print the length of positive and negative training files after splitting test data'''\n",
    "pos_train_files = get_files(path + os.sep + 'train' + os.sep + 'pos')\n",
    "neg_train_files = get_files(path + os.sep + 'train' + os.sep + 'neg')\n",
    "all_train_files = pos_train_files + neg_train_files\n",
    "print len(pos_train_files)\n",
    "print len(neg_train_files)"
   ]
  },
  {
   "cell_type": "code",
   "execution_count": 21,
   "metadata": {
    "collapsed": false
   },
   "outputs": [
    {
     "name": "stdout",
     "output_type": "stream",
     "text": [
      "found 18000 positive and 18000 negative training files\n",
      "first positive file: data-MNB\\train\\pos\\1.txt\n",
      "first negative file: data-MNB\\train\\neg\\1.txt\n"
     ]
    }
   ],
   "source": [
    "print('found %d positive and %d negative training files' %\n",
    "      (len(pos_train_files), len(neg_train_files)))\n",
    "print('first positive file: %s' % pos_train_files[0])\n",
    "print('first negative file: %s' % neg_train_files[0])"
   ]
  },
  {
   "cell_type": "markdown",
   "metadata": {},
   "source": [
    "## Sentiment Analysis\n",
    "\n",
    "We will now use a [Naive Bayes classifier](https://en.wikipedia.org/wiki/Naive_Bayes_classifier) to build a prediction model for whether a review is positive or negative, depending on the text of the review. \n",
    "\n",
    "Most models work with numerical data, so we need to convert the textual collection of reviews to something numerical. A common strategy for text classification is to represent each review as a \"bag of words\" vector -- a long vector\n",
    "of numbers encoding how many times a particular word appears in a blurb.\n",
    "\n",
    "We will use the Scikit-learn object called a `CountVectorizer` which turns text into a bag of words."
   ]
  },
  {
   "cell_type": "code",
   "execution_count": 22,
   "metadata": {
    "collapsed": true
   },
   "outputs": [],
   "source": [
    "def get_true_labels(file_names):\n",
    "    \"\"\"Return a *numpy array* of ints for the true sentiment labels of each file.\n",
    "    1 means positive, 0 means negative. Use the name of the file to determine\n",
    "    the true label.\n",
    "    Params:\n",
    "        file_names....a list of .txt file paths, e.g., data/train/pos/10057_9.txt\n",
    "    Returns:\n",
    "        a numpy array of 1 or 0 values corresponding to each element\n",
    "        of file_names, where 1 indicates a positive review, and 0\n",
    "        indicates a negative review.\n",
    "    \"\"\"\n",
    "    x=np.ones((len(file_names[:(len(file_names)/2)]),), dtype=np.int)\n",
    "    y=np.zeros((len(file_names[(len(file_names)/2):]),), dtype=np.int)\n",
    "    z=np.concatenate([x, y])\n",
    "    return z"
   ]
  },
  {
   "cell_type": "code",
   "execution_count": 23,
   "metadata": {
    "collapsed": false
   },
   "outputs": [
    {
     "name": "stdout",
     "output_type": "stream",
     "text": [
      "first 3 and last 3 labels are: [1 1 1 0 0 0]\n"
     ]
    }
   ],
   "source": [
    "labels = get_true_labels(all_train_files)\n",
    "print('first 3 and last 3 labels are: %s' % str(labels[[1,2,3,-3,-2,-1]]))"
   ]
  },
  {
   "cell_type": "code",
   "execution_count": 24,
   "metadata": {
    "collapsed": false
   },
   "outputs": [
    {
     "data": {
      "text/plain": [
       "u\"Coppola brilliantly conjures the young queen's insular world, in which she was both isolated and claustrophobically scrutinized.\""
      ]
     },
     "execution_count": 24,
     "metadata": {},
     "output_type": "execute_result"
    }
   ],
   "source": [
    "def file2string(filename):\n",
    "    return io.open(filename,encoding='utf8').readlines()[0]\n",
    "   \n",
    "file2string(pos_train_files[10])"
   ]
  },
  {
   "cell_type": "code",
   "execution_count": 25,
   "metadata": {
    "collapsed": true
   },
   "outputs": [],
   "source": [
    "def tokenize(text):\n",
    "    \"\"\"Given a string, return a list of tokens such that: (1) all\n",
    "    tokens are lowercase, (2) all punctuation is removed. Note that\n",
    "    underscore (_) is not considered punctuation.\n",
    "    Params:\n",
    "        text....a string\n",
    "    Returns:\n",
    "        a list of tokens\n",
    "    \"\"\"\n",
    "    x=re.findall(r'\\w+',text.lower())\n",
    "    return x"
   ]
  },
  {
   "cell_type": "code",
   "execution_count": 26,
   "metadata": {
    "collapsed": false
   },
   "outputs": [
    {
     "name": "stdout",
     "output_type": "stream",
     "text": [
      "matrix represents 36000 documents with 37810 features\n",
      "first doc has terms:\n",
      "[398, 1485, 2932, 6992, 7317, 10948, 13300, 16539, 17144, 17504, 18345, 21311, 21890, 23100, 30245, 30854, 30981, 32375, 33485]\n"
     ]
    }
   ],
   "source": [
    "def do_vectorize(filenames, tokenizer_fn=tokenize, min_df=1,\n",
    "                 max_df=1., binary=True, ngram_range=(1,1)):\n",
    "    \"\"\"\n",
    "    Convert a list of filenames into a sparse csr_matrix, where\n",
    "    each row is a file and each column represents a unique word.\n",
    "    Use sklearn's CountVectorizer: http://goo.gl/eJ2PJ5\n",
    "    Params:\n",
    "        filenames.......list of review file names\n",
    "        tokenizer_fn....the function used to tokenize each document\n",
    "        min_df..........remove terms from the vocabulary that don't appear\n",
    "                        in at least this many documents\n",
    "        max_df..........remove terms from the vocabulary that appear in more\n",
    "                        than this fraction of documents\n",
    "        binary..........If true, each documents is represented by a binary\n",
    "                        vector, where 1 means a term occurs at least once in \n",
    "                        the document. If false, the term frequency is used instead.\n",
    "        ngram_range.....A tuple (n,m) means to use phrases of length n to m inclusive.\n",
    "                        E.g., (1,2) means consider unigrams and bigrams.\n",
    "    Return:\n",
    "        A tuple (X, vec), where X is the csr_matrix of feature vectors,\n",
    "        and vec is the CountVectorizer object.\n",
    "    \"\"\"\n",
    "    vectorizer = CountVectorizer(input='filename',tokenizer=tokenizer_fn,min_df=min_df,\n",
    "                 max_df=max_df, binary=binary, ngram_range=ngram_range,dtype=int)\n",
    "    dtm = vectorizer.fit_transform(filenames)\n",
    "    \n",
    "    return (dtm,vectorizer)\n",
    "    \n",
    "matrix,vec = do_vectorize(all_train_files)\n",
    "\n",
    "print ('matrix represents %d documents with %d features' % (matrix.shape[0], matrix.shape[1]))\n",
    "print('first doc has terms:\\n%s' % (str(sorted(matrix[0].nonzero()[1]))))"
   ]
  },
  {
   "cell_type": "code",
   "execution_count": 27,
   "metadata": {
    "collapsed": false
   },
   "outputs": [
    {
     "name": "stdout",
     "output_type": "stream",
     "text": [
      "first shuffled document data-MNB\\train\\pos\\10103.txt has label 1 and terms: [1442, 1697, 1911, 2049, 2651, 2932, 3106, 5917, 9820, 10213, 10502, 10577, 12545, 12805, 15577, 15968, 17565, 19152, 19277, 21918, 22362, 22628, 29313, 29580, 30008, 30854, 33901]\n"
     ]
    }
   ],
   "source": [
    "# Do not modify. This is to randomize the order of the documents, but\n",
    "# in a way that is consistent across platforms.\n",
    "# You should run this block once to get the shuffled data.\n",
    "def repeatable_random(seed):\n",
    "    hash = str(seed)\n",
    "    while True:\n",
    "        hash = hashlib.md5(hash).digest()\n",
    "        for c in hash:\n",
    "            yield ord(c)\n",
    "\n",
    "def repeatable_shuffle(X, y, filenames):\n",
    "    r = repeatable_random(42) \n",
    "    indices = sorted(range(X.shape[0]), key=lambda x: next(r))\n",
    "    return X[indices], y[indices], np.array(filenames)[indices]\n",
    "\n",
    "X, y, filenames = repeatable_shuffle(matrix, labels, all_train_files)\n",
    "\n",
    "print('first shuffled document %s has label %d and terms: %s' % \n",
    "      (filenames[0], y[0], sorted(X[0].nonzero()[1])))"
   ]
  },
  {
   "cell_type": "markdown",
   "metadata": {},
   "source": [
    "**Multinomial Naive Bayes - Synopsis**\n",
    "\n",
    "Multinomial Naive Bayes is used when the multiple occurrences of the words matter a lot in the classification problem. It is a specialized version of Naive Bayes that is designed more for text documents. This model explicitly models the word counts and adjusts the underlying calculations to deal with in. Basically our goal here is to determine whether a particular movie review is positive or negative. But in general reviews are just some bunch of words, so the first step inorder to train a multinomial Naive Bayes model to classify reviews to either to be positive or negative is to collect all the movie reviews that are pre-classified to be either positive or negative. Now we make two separate lists. The first list consists of  all the words that have appeared in our positive reviews along with the number of times they have appeared and the second list consists of all the words that have appeared in our negative reviews along with the number of times they have appeared. Now using these list we can estimate the probability of a particular word appearing in a positive review or in a negative review as represented by the formula given below.\n",
    "<img src=\"mnb.png\"width=700>"
   ]
  },
  {
   "cell_type": "code",
   "execution_count": 28,
   "metadata": {
    "collapsed": true
   },
   "outputs": [],
   "source": [
    "'''Method to get the Multinomial naive bayes classifier'''\n",
    "def get_clf_Mnb():\n",
    "    return MultinomialNB()"
   ]
  },
  {
   "cell_type": "code",
   "execution_count": 29,
   "metadata": {
    "collapsed": false
   },
   "outputs": [
    {
     "name": "stdout",
     "output_type": "stream",
     "text": [
      "fold 0 accuracy=0.7562\n",
      "fold 1 accuracy=0.7650\n",
      "fold 2 accuracy=0.7585\n",
      "fold 3 accuracy=0.7500\n",
      "fold 4 accuracy=0.7543\n",
      "average cross validation accuracy using multinomial naive bayes classifier=0.7568\n"
     ]
    }
   ],
   "source": [
    "#Multinomial Naive Bayes Classifier\n",
    "def do_cross_validation(X, y, n_folds=5, verbose=False):\n",
    "    \"\"\"\n",
    "    Perform n-fold cross validation, calling get_clf() to train n\n",
    "    different classifiers. Use sklearn's KFold class: http://goo.gl/wmyFhi\n",
    "    Be sure not to shuffle the data, otherwise your output will differ.\n",
    "    Params:\n",
    "        X.........a csr_matrix of feature vectors\n",
    "        y.........the true labels of each document\n",
    "        n_folds...the number of folds of cross-validation to do\n",
    "        verbose...If true, report the testing accuracy for each fold.\n",
    "    Return:\n",
    "        the average testing accuracy across all folds.\n",
    "    \"\"\"\n",
    "    cv = KFold(len(y), n_folds)\n",
    "    acc = []\n",
    "    n=0\n",
    "    for train_idx, test_idx in cv:\n",
    "        clf = get_clf_Mnb()\n",
    "        clf.fit(X[train_idx], y[train_idx])\n",
    "        predicted = clf.predict(X[test_idx])\n",
    "        accuracy = accuracy_score(y[test_idx], predicted)\n",
    "        acc.append(accuracy)\n",
    "        if verbose:\n",
    "            print 'fold %d accuracy=%.4f' % (n,accuracy)\n",
    "        n=n+1\n",
    "    avg = np.mean(acc)\n",
    "    return avg\n",
    "    \n",
    "print('average cross validation accuracy using multinomial naive bayes classifier=%.4f' %\n",
    "      do_cross_validation(X, y, verbose=True))"
   ]
  },
  {
   "cell_type": "code",
   "execution_count": 30,
   "metadata": {
    "collapsed": true
   },
   "outputs": [],
   "source": [
    "def do_expt(filenames, y, tokenizer_fn=tokenize,\n",
    "            min_df=1, max_df=1., binary=True,\n",
    "            ngram_range=(1,1), n_folds=5):\n",
    "    \"\"\"\n",
    "    Run one experiment, which consists of vectorizing each file,\n",
    "    performing cross-validation, and returning the average accuracy.\n",
    "    You should call do_vectorize and do_cross_validation here.\n",
    "    Params:\n",
    "        filenames.......list of review file names\n",
    "        y...............the true sentiment labels for each file\n",
    "        tokenizer_fn....the function used to tokenize each document\n",
    "        min_df..........remove terms from the vocabulary that don't appear\n",
    "                        in at least this many documents\n",
    "        max_df..........remove terms from the vocabulary that appear in more\n",
    "                        than this fraction of documents\n",
    "        binary..........If true, each documents is represented by a binary\n",
    "                        vector, where 1 means a term occurs at least once in \n",
    "                        the document. If false, the term frequency is used instead.\n",
    "        ngram_range.....A tuple (n,m) means to use phrases of length n to m inclusive.\n",
    "                        E.g., (1,2) means consider unigrams and bigrams.\n",
    "        n_folds.........The number of cross-validation folds to use.\n",
    "    Returns:\n",
    "        the average cross validation testing accuracy.\n",
    "    \"\"\"\n",
    "    m,vec = do_vectorize(filenames,binary=binary,tokenizer_fn=tokenizer_fn,min_df=min_df,max_df=max_df)\n",
    "    res=(do_cross_validation(m,y,n_folds=n_folds))\n",
    "    #avg = np.mean(res)\n",
    "\n",
    "    return res"
   ]
  },
  {
   "cell_type": "code",
   "execution_count": 31,
   "metadata": {
    "collapsed": false
   },
   "outputs": [
    {
     "name": "stdout",
     "output_type": "stream",
     "text": [
      "accuracy using multinomial naive bayes classifier with default settings: 0.7568\n"
     ]
    }
   ],
   "source": [
    "print('accuracy using multinomial naive bayes classifier with default settings: %.4g' % do_expt(filenames, y))"
   ]
  },
  {
   "cell_type": "code",
   "execution_count": 32,
   "metadata": {
    "collapsed": false
   },
   "outputs": [
    {
     "data": {
      "image/png": "[encoded data removed]",
      "text/plain": [
       "<matplotlib.figure.Figure at 0x9d7f5f8>"
      ]
     },
     "metadata": {},
     "output_type": "display_data"
    },
    {
     "data": {
      "text/plain": [
       "[0.74822222222222223,\n",
       " 0.75680555555555562,\n",
       " 0.75883333333333336,\n",
       " 0.75977777777777766]"
      ]
     },
     "execution_count": 32,
     "metadata": {},
     "output_type": "execute_result"
    }
   ],
   "source": [
    "def compare_n_folds(filenames, y):\n",
    "    \"\"\"\n",
    "    Vary the setting of n_folds parameter in the do_expt \n",
    "    function to be in [2,5,10,20]. For each setting, call do_expt and \n",
    "    store the resulting accuracy. Plot the accuracies for each setting.\n",
    "    Also return the list of accuracies. Use the default value for all\n",
    "    other arguments to the do_expt function.\n",
    "    Params:\n",
    "        filenames....list of training file names\n",
    "        y............true labels for each file (a numpy array)\n",
    "    Returns:\n",
    "        a list of average testing accuracies, one per fold.\n",
    "    \"\"\"\n",
    "    fold=[2,5,10,20]\n",
    "    avg_acc=[]\n",
    "    for f in fold:\n",
    "        avg_acc.append(do_expt(filenames,y,n_folds=f))\n",
    "        \n",
    "    plt.xlabel('n_folds')\n",
    "    plt.ylabel('accuracy using LR')\n",
    "    plt.plot(fold,avg_acc,'bo-')\n",
    "    plt.show()\n",
    "    \n",
    "    return avg_acc\n",
    "    \n",
    "compare_n_folds(filenames, y)"
   ]
  },
  {
   "cell_type": "markdown",
   "metadata": {},
   "source": [
    "**Graph Inference**\n",
    "\n",
    "We can see from the above picture that as the number of folds increases for a fixed amount of data, number of data within each fold decreases. Which basically means that there is less data that is available for testing. Also, more data is available for training purposes. Therefore, effect of increasing number of folds does increse the classifier's accuracy It trains the model more and tests the model with less data per fold. Hence, accuracy increases."
   ]
  },
  {
   "cell_type": "code",
   "execution_count": 33,
   "metadata": {
    "collapsed": false
   },
   "outputs": [
    {
     "data": {
      "text/plain": [
       "[0.75680555555555562, 0.75538888888888889]"
      ]
     },
     "execution_count": 33,
     "metadata": {},
     "output_type": "execute_result"
    }
   ],
   "source": [
    "def compare_binary(filenames, y):\n",
    "    \"\"\"\n",
    "    How does the binary parameter affect results? \n",
    "    Call do_expt twice, once with binary=True, and once with binary=False.\n",
    "    Return the average accuracies for each. Use the default parameters for the\n",
    "    remaining arguments in do_expt.\n",
    "    Params:\n",
    "        filenames....list of training file names\n",
    "        y............true labels for each file (a numpy array)\n",
    "    Returns:\n",
    "        a list of average testing accuracies. The first entry\n",
    "        is for binary=True, the second is for binary=False.\n",
    "    \"\"\"\n",
    "    avg=[]\n",
    "    avg.append(do_expt(filenames,y,binary=True))\n",
    "    avg.append(do_expt(filenames,y,binary=False))\n",
    "    return avg\n",
    "\n",
    "compare_binary(filenames, y)"
   ]
  },
  {
   "cell_type": "code",
   "execution_count": 34,
   "metadata": {
    "collapsed": true
   },
   "outputs": [],
   "source": [
    "def tokenize_with_punct(text):\n",
    "    \"\"\"Given a string, return a list of tokens such that: (1) all\n",
    "    tokens are lowercase, (2) all punctuation is kept as separate tokens.\n",
    "    Note that underscore (_) is not considered punctuation.\n",
    "    Params:\n",
    "        text....a string\n",
    "    Returns:\n",
    "        a list of tokens\n",
    "    \"\"\"\n",
    "    y=re.sub(r'[\\n\\r\\x85]', ' ', text.lower())\n",
    "    x=re.findall(r\"[\\w]+|[\\S]\", y.lower())\n",
    "    return x"
   ]
  },
  {
   "cell_type": "code",
   "execution_count": 35,
   "metadata": {
    "collapsed": true
   },
   "outputs": [],
   "source": [
    "def tokenize_with_not(text):\n",
    "    \"\"\"Does the same thing as tokenize_with_punct, with the following difference:\n",
    "    whenever the term 'not' appears, change the two subsequent tokens to have the prefix\n",
    "    'not_' prior to the token. See the example below. You may call \n",
    "    tokenize_with_punct as a subroutine.\n",
    "    Params:\n",
    "        text....a string\n",
    "    Returns:\n",
    "        a list of tokens\n",
    "    \"\"\"\n",
    "    res= []\n",
    "    \n",
    "    k=0\n",
    "    for token in tokenize_with_punct(text):\n",
    "        if token == 'not':\n",
    "            k=2\n",
    "            res.append(token)\n",
    "        else:\n",
    "            if k>0:\n",
    "                join = 'not_' + token\n",
    "                res.append(join)\n",
    "                k = k-1\n",
    "            else:\n",
    "                res.append(token)\n",
    "\n",
    "    return res"
   ]
  },
  {
   "cell_type": "code",
   "execution_count": 36,
   "metadata": {
    "collapsed": false
   },
   "outputs": [
    {
     "data": {
      "text/plain": [
       "[0.75680555555555562, 0.75663888888888875, 0.75855555555555554]"
      ]
     },
     "execution_count": 36,
     "metadata": {},
     "output_type": "execute_result"
    }
   ],
   "source": [
    "def tokenizer_expt(all_train_files, y):\n",
    "    \"\"\"\n",
    "    How does the tokenizer affect results? \n",
    "    Call do_expt three times, using three different tokenizers:\n",
    "    1- tokenize\n",
    "    2- tokenize_with_punct\n",
    "    3- tokenize_with_not\n",
    "    Return the average cross-validation accuracy for each approach,\n",
    "    in the above order. Use the default parameters for all other \n",
    "    arguments to do_expt.\n",
    "    Params:\n",
    "        filenames....list of training file names\n",
    "        y............true labels for each file (a numpy array)\n",
    "    Returns:\n",
    "        a list of average testing accuracies for each tokenizer.\n",
    "    \"\"\"\n",
    "    avg=[]\n",
    "    avg.append(do_expt(all_train_files,y,tokenizer_fn=tokenize))\n",
    "    avg.append(do_expt(all_train_files,y,tokenizer_fn=tokenize_with_punct))\n",
    "    avg.append(do_expt(all_train_files,y,tokenizer_fn=tokenize_with_not))\n",
    "    return avg\n",
    "\n",
    "tokenizer_expt(filenames, y)"
   ]
  },
  {
   "cell_type": "code",
   "execution_count": 37,
   "metadata": {
    "collapsed": false
   },
   "outputs": [
    {
     "data": {
      "image/png": "[encoded data removed]",
      "text/plain": [
       "<matplotlib.figure.Figure at 0x18575518>"
      ]
     },
     "metadata": {},
     "output_type": "display_data"
    },
    {
     "data": {
      "text/plain": [
       "[0.75855555555555554,\n",
       " 0.75908333333333333,\n",
       " 0.75813888888888881,\n",
       " 0.75777777777777788,\n",
       " 0.75705555555555548,\n",
       " 0.75830555555555557,\n",
       " 0.75736111111111115,\n",
       " 0.75641666666666663,\n",
       " 0.75575000000000003,\n",
       " 0.75311111111111106]"
      ]
     },
     "execution_count": 37,
     "metadata": {},
     "output_type": "execute_result"
    }
   ],
   "source": [
    "def min_df_expt(filenames, y):\n",
    "    \"\"\"\n",
    "    Vary the setting of min_df parameter in the do_expt \n",
    "    function to be ints in the range (1,10) (inclusive). For each setting,\n",
    "    call do_expt and store the resulting accuracy. Plot the accuracies for each setting.\n",
    "    Also return the list of accuracies. Use the default value for all\n",
    "    other arguments to the do_expt function, except that the tokenizer\n",
    "    should be tokenize_with_not.\n",
    "    Params:\n",
    "        filenames....list of training file names\n",
    "        y............true labels for each file (a numpy array)\n",
    "    Returns:\n",
    "        a list of average testing accuracies, one per min_df value.\n",
    "    \"\"\"\n",
    "    avg=[]\n",
    "    for i in range(1,11):\n",
    "        avg.append(do_expt(filenames,y,tokenizer_fn=tokenize_with_not,min_df=i,max_df=1., binary=True, ngram_range=(1,1)))\n",
    "    #plt.plot(avg,color='b')\n",
    "    plt.xlabel('min_df')\n",
    "    plt.ylabel('accuracy using Mnb')\n",
    "    plt.plot(range(1,11),avg,'bo-')\n",
    "    plt.show()\n",
    "    return avg\n",
    "\n",
    "min_df_expt(filenames, y)"
   ]
  },
  {
   "cell_type": "markdown",
   "metadata": {},
   "source": [
    "**Decline in accuracy**\n",
    "\n",
    "The min_df parameter refers particularly to the cut-off value for ignoring terms that have lower document frequency than the mentioned value. Setting a too low value will ignore very rare terms which doesn't count towards sentiment calculation. A bit higher value will ignore sufficient rare terms which will improve accuracy. If the value is high, the model will ignore necessary terms as well and that's why we observe a decline in accuracy in the right hand side of the above graph."
   ]
  },
  {
   "cell_type": "code",
   "execution_count": 38,
   "metadata": {
    "collapsed": false
   },
   "outputs": [
    {
     "data": {
      "image/png": "[encoded data removed]",
      "text/plain": [
       "<matplotlib.figure.Figure at 0x37ed940>"
      ]
     },
     "metadata": {},
     "output_type": "display_data"
    },
    {
     "data": {
      "text/plain": [
       "[0.75877777777777777,\n",
       " 0.75811111111111118,\n",
       " 0.75849999999999995,\n",
       " 0.75777777777777777,\n",
       " 0.75788888888888883,\n",
       " 0.75872222222222219,\n",
       " 0.75880555555555551,\n",
       " 0.75911111111111107,\n",
       " 0.75911111111111107,\n",
       " 0.75908333333333333]"
      ]
     },
     "execution_count": 38,
     "metadata": {},
     "output_type": "execute_result"
    }
   ],
   "source": [
    "def max_df_expt(filenames, y):\n",
    "    \"\"\"\n",
    "    Vary the setting of max_df parameter in the do_expt \n",
    "    function to be one of [.1, .2, .3, .4, .5, .6, .7, .8, .9, 1.].\n",
    "    For each setting, call do_expt and store the resulting accuracy.\n",
    "    Plot the accuracies for each setting. Also return the list of accuracies.\n",
    "    Use the default value for all other arguments to the do_expt function,\n",
    "    except that the tokenizer=tokenize_with_not and min_df=2.\n",
    "    Params:\n",
    "        filenames....list of training file names\n",
    "        y............true labels for each file (a numpy array)\n",
    "    Returns:\n",
    "        a list of average testing accuracies, one per max_df value.\n",
    "    \"\"\"\n",
    "    avg=[]\n",
    "    max = [.1, .2, .3, .4, .5, .6, .7, .8, .9, 1.]\n",
    "    for i in max:\n",
    "        avg.append(do_expt(filenames,y,tokenizer_fn=tokenize_with_not,min_df=2,max_df=i, binary=True, ngram_range=(1,1)))\n",
    "    \n",
    "    plt.xlabel('max_df')\n",
    "    plt.ylabel('accuracy using Mnb')\n",
    "    plt.plot(max,avg,'bo-')\n",
    "    plt.show()\n",
    "    return avg\n",
    "    \n",
    "max_df_expt(filenames, y)"
   ]
  },
  {
   "cell_type": "code",
   "execution_count": 41,
   "metadata": {
    "collapsed": false
   },
   "outputs": [
    {
     "name": "stdout",
     "output_type": "stream",
     "text": [
      "Multinomial Naive Bayes classifier accuracy for training data: 0.871\n",
      "Multinomial Naive Bayes classifier accuracy for test data: 0.753\n"
     ]
    }
   ],
   "source": [
    "X, vec = do_vectorize(filenames, tokenizer_fn=tokenize_with_not,\n",
    "                      binary=True, min_df=2, max_df=.7)\n",
    "\n",
    "'''Splitting train and test data within the test data to measure our performance'''\n",
    "\n",
    "X_train, X_test, Y_train, Y_test = train_test_split(X, y, test_size=0.33, random_state=42)\n",
    "clf = get_clf_Mnb()\n",
    "#clf.fit(X, y)\n",
    "clf.fit(X_train, Y_train)\n",
    "print 'Multinomial Naive Bayes classifier accuracy for training data:', round(clf.score(X_train, Y_train), 3)\n",
    "print 'Multinomial Naive Bayes classifier accuracy for test data:', round(clf.score(X_test, Y_test),3)"
   ]
  },
  {
   "cell_type": "markdown",
   "metadata": {},
   "source": [
    "We can see from above train and test split within the training data, there's seems to be some overfitting happening here, since the error rate on the test data (25%) is almost twice as large as the error rate on the training data (13%). It's possible (though unlikely) that the accuracy difference is a product of chance, and not a symptom of overfitting. This could be tested with cross-validation, by repeatedly fitting and scoring the classifier on different train/test splits. If the performance on the training data is consistently better than the test data, then overfitting has occured. This is the case here."
   ]
  },
  {
   "cell_type": "code",
   "execution_count": 48,
   "metadata": {
    "collapsed": false
   },
   "outputs": [
    {
     "name": "stdout",
     "output_type": "stream",
     "text": [
      "X_test represents 7870 documents with 24221 features\n",
      "y_test has 3027 positive and 4843 negative labels\n",
      "first testing file is data-MNB\\test\\pos\\18001.txt\n",
      "last testing file is data-MNB\\test\\neg\\22843.txt\n",
      "testing accuracy using Multinomial classifier=0.9086\n"
     ]
    }
   ],
   "source": [
    "#calculate testing accuracy again by generating vocabulary on reviews present in the test folder. \n",
    "#Here we again use the Multinomial classifier at first to predict the accuracy on test data.\n",
    "pos_test_files = get_files(path + os.sep + 'test' + os.sep + 'pos')\n",
    "neg_test_files = get_files(path + os.sep + 'test' + os.sep + 'neg')\n",
    "all_test_files = pos_test_files + neg_test_files\n",
    "# Note that we call .transform, not .fit_transform, since we \n",
    "# don't want to learn a new vocabulary.\n",
    "clf = get_clf_Mnb()\n",
    "X_test = vec.transform(all_test_files)\n",
    "y_test = np.array([1] * len(pos_test_files) + [0] * len(neg_test_files))\n",
    "clf.fit(X_test,y_test)\n",
    "print('X_test represents %d documents with %d features' % (X_test.shape[0], X_test.shape[1]))\n",
    "print('y_test has %d positive and %d negative labels' % (len(np.where(y_test==1)[0]),\n",
    "                                                          len(np.where(y_test==0)[0])))\n",
    "print('first testing file is %s' % all_test_files[0])\n",
    "print('last testing file is %s' % all_test_files[-1])\n",
    "print('testing accuracy using Multinomial classifier=%.4g' % accuracy_score(y_test, clf.predict(X_test)))"
   ]
  },
  {
   "cell_type": "markdown",
   "metadata": {},
   "source": [
    "**Model Calibration**\n",
    "\n",
    "Bayesian models like the Naive Bayes classifier have the nice property that they compute probabilities of a particular classification -- the `predict_proba` and `predict_log_proba` methods of `MultinomialNB` compute these probabilities. \n",
    "\n",
    "We should always assess whether these probabilities are **calibrated** -- that is, whether a prediction made with a confidence of `x%` is correct approximately `x%` of the time.\n",
    "\n",
    "Let's make a plot to assess model calibration. By googling we found calibration plots like the one below where they've used two classifiers, Logit and a naive bayes model.\n",
    "\n",
    "<img src=\"http://scikit-learn.org/stable/_images/plot_calibration_curve_0011.png\" width=500px>\n",
    "\n",
    "In words, we want to:\n",
    "\n",
    "Take a collection of examples, and compute the positive probability for each using `clf.predict_proba` and then gather examples into bins of similar positive probability. For each bin, we then count the number of examples in that bin, and compute the fraction of examples in the bin which are positive. In the upper plot, we graph the expected P(pos) (x axis) and observed positive fraction (Y axis). After which we Estimate the uncertainty in observed positive fraction $F$ via the [equation](http://en.wikipedia.org/wiki/Binomial_proportion_confidence_interval) $\\sigma = \\sqrt{F (1-F) / N}$. Finally we overplot the line y=x. This is the trend we would expect if the model is calibrated. In the lower plot, we show the number of examples in each bin.\n"
   ]
  },
  {
   "cell_type": "code",
   "execution_count": 43,
   "metadata": {
    "collapsed": true
   },
   "outputs": [],
   "source": [
    "from math import sqrt\n",
    "\"\"\"\n",
    "Function\n",
    "--------\n",
    "calibration_plot\n",
    "\n",
    "Builds a plot like the one above, from a classifier and review data\n",
    "\n",
    "Inputs\n",
    "-------\n",
    "clf : Classifier object\n",
    "    A MultinomialNB classifier\n",
    "X : (Nexample, Nfeature) array\n",
    "    The bag-of-words data\n",
    "Y : (Nexample) integer array\n",
    "    1 if a review is positive\n",
    "\"\"\"    \n",
    "def calibration_plot(clf, X, Y):\n",
    "    \n",
    "    # split up data into train/test\n",
    "    X_train, X_test, Y_train, Y_test = train_test_split(X, Y, test_size=0.33, random_state=42)\n",
    "    # train classifier\n",
    "    clf.fit(X_train, Y_train)\n",
    "    \n",
    "    print 'Classifier accuracy for training data: '+str(round(clf.score(X_train, Y_train), 3))\n",
    "    print 'Classifier accuracy for test data: '+str(round(clf.score(X_test, Y_test),3))\n",
    "    \n",
    "    # the rest is old (y-)hat.\n",
    "    neg, pos = zip(*clf.predict_proba(X_train))\n",
    "\n",
    "    bins = np.linspace(0,1,20)\n",
    "    bin_places = np.digitize(pos, bins)\n",
    "            \n",
    "    prob_df = pd.DataFrame({'xtrain_prob':pos, 'ytrain':Y_train, 'bin_place':bin_places})\n",
    "    \n",
    "    grouped_df = prob_df.groupby('bin_place')\n",
    "    positive = grouped_df['ytrain']\n",
    "    \n",
    "    p_result = []\n",
    "    p_sigmas = []\n",
    "    bin_totals = grouped_df.size().values\n",
    "    \n",
    "    for c, val in positive:\n",
    "        \n",
    "        fsum = np.sum(val.values.astype(int))\n",
    "        \n",
    "        p_res = round(float(fsum)/float(bin_totals[c-1]), 3)\n",
    "        \n",
    "        p_result.append(p_res)\n",
    "        pos_sigma = sqrt(p_res*(1-p_res)/bin_totals[c-1])\n",
    "        p_sigmas.append(pos_sigma)\n",
    "        \n",
    "    fig = plt.figure()\n",
    "    \n",
    "    ax_top = fig.add_subplot(2,1,1)\n",
    "    ax_top.plot(bins[1:20], p_result)\n",
    "    ax_top.errorbar(bins[1:20], p_result, yerr=p_sigmas, fmt='ro')\n",
    "    \n",
    "    ax_top.plot(p_result, p_result, c='r')\n",
    "    ax_top.set_xticks(np.arange(0,1.1,.05))\n",
    "    ax_top.set_xticklabels(np.arange(0,1.1,.05), rotation='vertical')\n",
    "    ax_top.set_yticks(np.arange(0,1.2,.1))\n",
    "    ax_bot = fig.add_subplot(2,1,2)\n",
    "    ax_bot.bar(range(len(bin_totals)), bin_totals, .5)\n",
    "    \n",
    "    ax_bot.set_xticks(range(19))\n",
    "    \n",
    "    plt.subplots_adjust(top=1.5)\n",
    "    plt.subplots_adjust(bottom=.5)"
   ]
  },
  {
   "cell_type": "code",
   "execution_count": 50,
   "metadata": {
    "collapsed": false
   },
   "outputs": [
    {
     "name": "stdout",
     "output_type": "stream",
     "text": [
      "Classifier accuracy for training data: 0.871\n",
      "Classifier accuracy for test data: 0.753\n"
     ]
    },
    {
     "data": {
      "image/png": "[encoded data removed]",
      "text/plain": [
       "<matplotlib.figure.Figure at 0x1ba1f1d0>"
      ]
     },
     "metadata": {},
     "output_type": "display_data"
    }
   ],
   "source": [
    "'''Calibration plot for estimated for tain and test data split from the entire training data'''\n",
    "calibration_plot(clf, X, y)"
   ]
  },
  {
   "cell_type": "markdown",
   "metadata": {},
   "source": [
    "**Calibration inference**\n",
    "\n",
    "We might say a model is over-confident if the positive fraction is usually closer to 0.5 than expected (that is, there is more uncertainty than the model predicted). Likewise, a model is under-confident if the probabilities are usually further away from 0.5. We can infer from the above calibrated graph, for most part the model is under-confident - the actual positive fraction lags a bit behind expectations. For example, between the expected 35-40% bins, our y-axis (pos_frac) is only at about 25%. \n",
    "It starts getting better around 0.55, however, and by the highest quartile or so it performs quite nicely."
   ]
  },
  {
   "cell_type": "code",
   "execution_count": 45,
   "metadata": {
    "collapsed": true
   },
   "outputs": [],
   "source": [
    "features = vec.get_feature_names()\n",
    "eyematrix = np.eye(len(features))\n",
    "# compute per-word probability by running I-matrix through our classifier\n",
    "perword_proba = clf.predict_proba(eyematrix)"
   ]
  },
  {
   "cell_type": "code",
   "execution_count": 46,
   "metadata": {
    "collapsed": false
   },
   "outputs": [
    {
     "name": "stdout",
     "output_type": "stream",
     "text": [
      "Top 10 positive Predictor Words according to Multinomial classifier: \n",
      "              word  prob negative\n",
      "7455   exquisitely       0.088957\n",
      "23130      vibrant       0.096265\n",
      "9739          held       0.115194\n",
      "6481      dynamics       0.115194\n",
      "21427     tempered       0.127753\n",
      "5167       darkest       0.127753\n",
      "5611   destructive       0.127753\n",
      "3410     challenge       0.127753\n",
      "22459   uncommonly       0.127753 \n",
      "\n",
      "Top 10 negative Predictor Words according to Multinomial classifier: \n",
      "               word  prob positive\n",
      "2527           bore       0.042987\n",
      "18456          runs       0.045268\n",
      "20419      starring       0.047803\n",
      "6405           dull       0.050639\n",
      "11799       lacking       0.050639\n",
      "3552         cheesy       0.050639\n",
      "22471  unconvincing       0.053834\n",
      "5545     derivative       0.053834\n",
      "20731         stuck       0.053834\n"
     ]
    }
   ],
   "source": [
    "perword_neg, perword_pos = zip(*perword_proba)\n",
    "# make dict with negative, positive probs plus actual word\n",
    "perword_dict = {'word':features, 'prob negative':perword_neg, 'prob positive':perword_pos}\n",
    "# convert to df for easier processing\n",
    "perword_df = pd.DataFrame(data = perword_dict)\n",
    "\n",
    "# sort each in descending order, grab top 10, print\n",
    "print 'Top 10 positive Predictor Words according to Multinomial classifier: \\n', perword_df.sort(columns='prob positive', ascending=False).iloc[1:10,[2,0]],'\\n'\n",
    "\n",
    "print 'Top 10 negative Predictor Words according to Multinomial classifier: \\n', perword_df.sort(columns='prob negative', ascending=False).iloc[1:10,[2,1]]"
   ]
  },
  {
   "cell_type": "code",
   "execution_count": 49,
   "metadata": {
    "collapsed": false
   },
   "outputs": [
    {
     "data": {
      "text/plain": [
       "[{'filename': 'data-MNB\\\\test\\\\pos\\\\20893.txt',\n",
       "  'index': 2892,\n",
       "  'predicted': 0,\n",
       "  'probas': array([  9.99702508e-01,   2.97492336e-04]),\n",
       "  'truth': 1},\n",
       " {'filename': 'data-MNB\\\\test\\\\pos\\\\18443.txt',\n",
       "  'index': 442,\n",
       "  'predicted': 0,\n",
       "  'probas': array([  9.99418408e-01,   5.81591718e-04]),\n",
       "  'truth': 1},\n",
       " {'filename': 'data-MNB\\\\test\\\\neg\\\\19925.txt',\n",
       "  'index': 4951,\n",
       "  'predicted': 1,\n",
       "  'probas': array([  5.90537430e-04,   9.99409463e-01]),\n",
       "  'truth': 0},\n",
       " {'filename': 'data-MNB\\\\test\\\\pos\\\\20986.txt',\n",
       "  'index': 2985,\n",
       "  'predicted': 0,\n",
       "  'probas': array([ 0.99857771,  0.00142229]),\n",
       "  'truth': 1},\n",
       " {'filename': 'data-MNB\\\\test\\\\pos\\\\18042.txt',\n",
       "  'index': 41,\n",
       "  'predicted': 0,\n",
       "  'probas': array([ 0.99851398,  0.00148602]),\n",
       "  'truth': 1},\n",
       " {'filename': 'data-MNB\\\\test\\\\pos\\\\20624.txt',\n",
       "  'index': 2623,\n",
       "  'predicted': 0,\n",
       "  'probas': array([ 0.99840895,  0.00159105]),\n",
       "  'truth': 1},\n",
       " {'filename': 'data-MNB\\\\test\\\\pos\\\\19185.txt',\n",
       "  'index': 1184,\n",
       "  'predicted': 0,\n",
       "  'probas': array([ 0.99833633,  0.00166367]),\n",
       "  'truth': 1},\n",
       " {'filename': 'data-MNB\\\\test\\\\pos\\\\18499.txt',\n",
       "  'index': 498,\n",
       "  'predicted': 0,\n",
       "  'probas': array([ 0.99814533,  0.00185467]),\n",
       "  'truth': 1},\n",
       " {'filename': 'data-MNB\\\\test\\\\pos\\\\19587.txt',\n",
       "  'index': 1586,\n",
       "  'predicted': 0,\n",
       "  'probas': array([ 0.99773169,  0.00226831]),\n",
       "  'truth': 1},\n",
       " {'filename': 'data-MNB\\\\test\\\\pos\\\\19621.txt',\n",
       "  'index': 1620,\n",
       "  'predicted': 0,\n",
       "  'probas': array([ 0.99666673,  0.00333327]),\n",
       "  'truth': 1}]"
      ]
     },
     "execution_count": 49,
     "metadata": {},
     "output_type": "execute_result"
    }
   ],
   "source": [
    "def get_top_errors(X_test, y_test, filenames, clf, n=10):\n",
    "    \"\"\"\n",
    "    Use clf to predict the labels of the testing data in X_test. \n",
    "    We want to find incorrectly predicted documents. Furthermore, we want to look at those \n",
    "    where the probability of the incorrect label, according to the classifier, is highest.\n",
    "    Use the .predict_proba method of the classifier to get the probabilities of\n",
    "    each class label. Return the n documents that were misclassified, sorted by the\n",
    "    probability of the incorrect label. The returned value is a list of dicts, defined below.\n",
    "    Params:\n",
    "        X_test......the testing matrix\n",
    "        y_test......the true labels for each testing document\n",
    "        filenames...the filenames for each testing document\n",
    "        clf.........a trained LogisticRegression object\n",
    "        n...........the number of errors to return\n",
    "    Returns:\n",
    "        A list of n dicts containing the following key/value pairs:\n",
    "           index: the index of this document (in the filenames array)\n",
    "           probas: a numpy array containing the probability of class 0 and 1\n",
    "           truth: the true label\n",
    "           predicted: the predicted label\n",
    "           filename: the path to the file for this document\n",
    "    \"\"\"\n",
    "    \n",
    "    predict = clf.predict(X_test)\n",
    "    predict_prob = clf.predict_proba(X_test)\n",
    "    res=[]\n",
    "\n",
    "    for i in range(len(predict)):\n",
    "        if predict[i] != y_test[i]:\n",
    "            res.append(({'filename':filenames[i],'index':filenames.index(filenames[i]),'predicted':predict[i],\n",
    "                         'probas':predict_prob[i],'truth':y_test[i]}))\n",
    " \n",
    "    return sorted(res,key=lambda x:abs(max(x['probas'])),reverse=True)[:n]\n",
    " \n",
    "errors = get_top_errors(X_test, y_test, all_test_files, clf)\n",
    "errors"
   ]
  },
  {
   "cell_type": "markdown",
   "metadata": {},
   "source": [
    "**Conclusion and Future work**\n",
    "\n",
    "Many mis-predictions tend to occur due to the fact that there seems to be more ambivalent language usage in many of the reviews -- such as for example lets consider a sample review to be \"this should have been a good movie, but it wasn't\". Words like \"but\", \"not\", etc. act to negate the sentiment of words. However, because Naive Bayes treats each word separately, it isn't able to capture these kind of word interactions. For example, lets consider a review to be \"this movie is not remarkable, touching, or superb in any way\" just because the review contains typically positive words like remarkable/touching/superb, the classifier might give it a high probability meaning it to be positive.\n",
    " \n",
    "Another aspect we could mention here is the word dependence.  As evidenced here with this example review, a single negator can flip the significance of any number of highly positive words that come after it.  We could in fact in future try to analyze some kind of semantic statistics on the frequency of negative descriptions in language (ie. \"not bad\" instead of \"good\"). We can also try to add other supplemental information such as details about the cast crew of the movie, actor, directors and the specific genres of the movie that can potentially improve our predictive model. "
   ]
  },
  {
   "cell_type": "code",
   "execution_count": null,
   "metadata": {
    "collapsed": true
   },
   "outputs": [],
   "source": []
  }
 ],
 "metadata": {
  "kernelspec": {
   "display_name": "Python 2",
   "language": "python",
   "name": "python2"
  },
  "language_info": {
   "codemirror_mode": {
    "name": "ipython",
    "version": 2
   },
   "file_extension": ".py",
   "mimetype": "text/x-python",
   "name": "python",
   "nbconvert_exporter": "python",
   "pygments_lexer": "ipython2",
   "version": "2.7.10"
  }
 },
 "nbformat": 4,
 "nbformat_minor": 0
}

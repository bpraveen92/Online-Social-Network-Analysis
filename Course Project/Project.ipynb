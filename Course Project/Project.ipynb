{
 "cells": [
  {
   "cell_type": "code",
   "execution_count": 1,
   "metadata": {
    "collapsed": true
   },
   "outputs": [],
   "source": [
    "'''Classification model - Logistic Regression'''\n",
    "\n",
    "'''Import all necessary library files'''\n",
    "\n",
    "from collections import Counter\n",
    "import glob\n",
    "import hashlib\n",
    "import io\n",
    "import math\n",
    "import matplotlib.pyplot as plt\n",
    "import numpy as np\n",
    "import os\n",
    "import re\n",
    "import string\n",
    "from sklearn.cross_validation import KFold\n",
    "from sklearn.feature_extraction.text import CountVectorizer\n",
    "from sklearn.linear_model import LogisticRegression\n",
    "from sklearn.metrics import accuracy_score\n",
    "from sklearn.svm import LinearSVC\n",
    "from sklearn.metrics import classification_report,confusion_matrix\n",
    "from sklearn.cross_validation import train_test_split\n",
    "from nltk.classify.scikitlearn import SklearnClassifier\n",
    "import pandas as pd\n",
    "%matplotlib inline\n",
    "from sklearn.naive_bayes import BernoulliNB\n",
    "from sklearn.naive_bayes import MultinomialNB\n",
    "import metacritic\n",
    "import pickle\n",
    "import pandas as pd\n",
    "import shutil"
   ]
  },
  {
   "cell_type": "code",
   "execution_count": 2,
   "metadata": {
    "collapsed": false
   },
   "outputs": [
    {
     "data": {
      "text/html": [
       "<div>\n",
       "<table border=\"1\" class=\"dataframe\">\n",
       "  <thead>\n",
       "    <tr style=\"text-align: right;\">\n",
       "      <th></th>\n",
       "      <th>﻿Review</th>\n",
       "      <th>Sentiment</th>\n",
       "    </tr>\n",
       "  </thead>\n",
       "  <tbody>\n",
       "    <tr>\n",
       "      <th>0</th>\n",
       "      <td>That such intelligence could be contained in a...</td>\n",
       "      <td>100</td>\n",
       "    </tr>\n",
       "    <tr>\n",
       "      <th>1</th>\n",
       "      <td>Shines with a kind of inspired madness.</td>\n",
       "      <td>100</td>\n",
       "    </tr>\n",
       "    <tr>\n",
       "      <th>2</th>\n",
       "      <td>Here is the most passionate and tender love st...</td>\n",
       "      <td>100</td>\n",
       "    </tr>\n",
       "    <tr>\n",
       "      <th>3</th>\n",
       "      <td>One of the greatest of all American films, but...</td>\n",
       "      <td>100</td>\n",
       "    </tr>\n",
       "    <tr>\n",
       "      <th>4</th>\n",
       "      <td>A remarkable film.</td>\n",
       "      <td>100</td>\n",
       "    </tr>\n",
       "  </tbody>\n",
       "</table>\n",
       "</div>"
      ],
      "text/plain": [
       "                                             ﻿Review  Sentiment\n",
       "0  That such intelligence could be contained in a...        100\n",
       "1            Shines with a kind of inspired madness.        100\n",
       "2  Here is the most passionate and tender love st...        100\n",
       "3  One of the greatest of all American films, but...        100\n",
       "4                                 A remarkable film.        100"
      ]
     },
     "execution_count": 2,
     "metadata": {},
     "output_type": "execute_result"
    }
   ],
   "source": [
    "'''Place the reviews.txt file in the working directory and then run all the modules below'''\n",
    "df = pd.read_csv(\"reviews.txt\",sep='\\t')\n",
    "df.head()"
   ]
  },
  {
   "cell_type": "code",
   "execution_count": 3,
   "metadata": {
    "collapsed": false
   },
   "outputs": [
    {
     "data": {
      "text/html": [
       "<div>\n",
       "<table border=\"1\" class=\"dataframe\">\n",
       "  <thead>\n",
       "    <tr style=\"text-align: right;\">\n",
       "      <th></th>\n",
       "      <th>﻿Review</th>\n",
       "      <th>Sentiment</th>\n",
       "    </tr>\n",
       "  </thead>\n",
       "  <tbody>\n",
       "    <tr>\n",
       "      <th>44004</th>\n",
       "      <td>The lack of imagination in Stargate is distres...</td>\n",
       "      <td>25</td>\n",
       "    </tr>\n",
       "    <tr>\n",
       "      <th>44005</th>\n",
       "      <td>Oz the Great and Powerful is an oppressive, bl...</td>\n",
       "      <td>25</td>\n",
       "    </tr>\n",
       "    <tr>\n",
       "      <th>44006</th>\n",
       "      <td>It is a grand-looking, grandly empty pageant.</td>\n",
       "      <td>25</td>\n",
       "    </tr>\n",
       "    <tr>\n",
       "      <th>44007</th>\n",
       "      <td>There’s exactly one good scene in all of The H...</td>\n",
       "      <td>25</td>\n",
       "    </tr>\n",
       "    <tr>\n",
       "      <th>44008</th>\n",
       "      <td>Man on a Ledge just made me think of an old Va...</td>\n",
       "      <td>25</td>\n",
       "    </tr>\n",
       "  </tbody>\n",
       "</table>\n",
       "</div>"
      ],
      "text/plain": [
       "                                                 ﻿Review  Sentiment\n",
       "44004  The lack of imagination in Stargate is distres...         25\n",
       "44005  Oz the Great and Powerful is an oppressive, bl...         25\n",
       "44006      It is a grand-looking, grandly empty pageant.         25\n",
       "44007  There’s exactly one good scene in all of The H...         25\n",
       "44008  Man on a Ledge just made me think of an old Va...         25"
      ]
     },
     "execution_count": 3,
     "metadata": {},
     "output_type": "execute_result"
    }
   ],
   "source": [
    "df.tail()"
   ]
  },
  {
   "cell_type": "markdown",
   "metadata": {},
   "source": [
    "**Data split into positive and negative:**\n",
    "\n",
    "We split our dataset by considering the reviews with scores above 65 to be Positive and those ones that are below 65 to be considered as negative and store them into two separate dataframes."
   ]
  },
  {
   "cell_type": "code",
   "execution_count": 4,
   "metadata": {
    "collapsed": false
   },
   "outputs": [
    {
     "data": {
      "text/html": [
       "<div>\n",
       "<table border=\"1\" class=\"dataframe\">\n",
       "  <thead>\n",
       "    <tr style=\"text-align: right;\">\n",
       "      <th></th>\n",
       "      <th>Sentiment</th>\n",
       "    </tr>\n",
       "  </thead>\n",
       "  <tbody>\n",
       "    <tr>\n",
       "      <th>count</th>\n",
       "      <td>21027.000000</td>\n",
       "    </tr>\n",
       "    <tr>\n",
       "      <th>mean</th>\n",
       "      <td>81.959623</td>\n",
       "    </tr>\n",
       "    <tr>\n",
       "      <th>std</th>\n",
       "      <td>9.922689</td>\n",
       "    </tr>\n",
       "    <tr>\n",
       "      <th>min</th>\n",
       "      <td>67.000000</td>\n",
       "    </tr>\n",
       "    <tr>\n",
       "      <th>25%</th>\n",
       "      <td>75.000000</td>\n",
       "    </tr>\n",
       "    <tr>\n",
       "      <th>50%</th>\n",
       "      <td>80.000000</td>\n",
       "    </tr>\n",
       "    <tr>\n",
       "      <th>75%</th>\n",
       "      <td>90.000000</td>\n",
       "    </tr>\n",
       "    <tr>\n",
       "      <th>max</th>\n",
       "      <td>100.000000</td>\n",
       "    </tr>\n",
       "  </tbody>\n",
       "</table>\n",
       "</div>"
      ],
      "text/plain": [
       "          Sentiment\n",
       "count  21027.000000\n",
       "mean      81.959623\n",
       "std        9.922689\n",
       "min       67.000000\n",
       "25%       75.000000\n",
       "50%       80.000000\n",
       "75%       90.000000\n",
       "max      100.000000"
      ]
     },
     "execution_count": 4,
     "metadata": {},
     "output_type": "execute_result"
    }
   ],
   "source": [
    "#split positive and negative reviews based on scores \n",
    "pos = df[df.Sentiment > 65]\n",
    "neg = df[df.Sentiment < 65]\n",
    "pos.describe()"
   ]
  },
  {
   "cell_type": "code",
   "execution_count": 5,
   "metadata": {
    "collapsed": false
   },
   "outputs": [
    {
     "data": {
      "text/html": [
       "<div>\n",
       "<table border=\"1\" class=\"dataframe\">\n",
       "  <thead>\n",
       "    <tr style=\"text-align: right;\">\n",
       "      <th></th>\n",
       "      <th>Sentiment</th>\n",
       "    </tr>\n",
       "  </thead>\n",
       "  <tbody>\n",
       "    <tr>\n",
       "      <th>count</th>\n",
       "      <td>22843.000000</td>\n",
       "    </tr>\n",
       "    <tr>\n",
       "      <th>mean</th>\n",
       "      <td>44.681434</td>\n",
       "    </tr>\n",
       "    <tr>\n",
       "      <th>std</th>\n",
       "      <td>15.531329</td>\n",
       "    </tr>\n",
       "    <tr>\n",
       "      <th>min</th>\n",
       "      <td>0.000000</td>\n",
       "    </tr>\n",
       "    <tr>\n",
       "      <th>25%</th>\n",
       "      <td>38.000000</td>\n",
       "    </tr>\n",
       "    <tr>\n",
       "      <th>50%</th>\n",
       "      <td>50.000000</td>\n",
       "    </tr>\n",
       "    <tr>\n",
       "      <th>75%</th>\n",
       "      <td>60.000000</td>\n",
       "    </tr>\n",
       "    <tr>\n",
       "      <th>max</th>\n",
       "      <td>63.000000</td>\n",
       "    </tr>\n",
       "  </tbody>\n",
       "</table>\n",
       "</div>"
      ],
      "text/plain": [
       "          Sentiment\n",
       "count  22843.000000\n",
       "mean      44.681434\n",
       "std       15.531329\n",
       "min        0.000000\n",
       "25%       38.000000\n",
       "50%       50.000000\n",
       "75%       60.000000\n",
       "max       63.000000"
      ]
     },
     "execution_count": 5,
     "metadata": {},
     "output_type": "execute_result"
    }
   ],
   "source": [
    "neg.describe()"
   ]
  },
  {
   "cell_type": "code",
   "execution_count": 6,
   "metadata": {
    "collapsed": true
   },
   "outputs": [],
   "source": [
    "'''Drop the Sentiment column from the dataframe'''\n",
    "pos = pos.drop('Sentiment', 1)\n",
    "neg = neg.drop('Sentiment',1)"
   ]
  },
  {
   "cell_type": "code",
   "execution_count": 7,
   "metadata": {
    "collapsed": false
   },
   "outputs": [
    {
     "name": "stdout",
     "output_type": "stream",
     "text": [
      "C:\\Users\\Praveen\\Desktop\\CS-579-Project\\data-LR\\train\\pos\n"
     ]
    }
   ],
   "source": [
    "'''Create a folder called data-MNB in your working directory along with pos and neg sub folders present\n",
    "in both train and test folders. After creation navigate using cd command to the pos sub-folder under train. '''\n",
    "\n",
    "cd C:\\Users\\Praveen\\Desktop\\CS-579-Project\\data-LR\\train\\pos"
   ]
  },
  {
   "cell_type": "code",
   "execution_count": 9,
   "metadata": {
    "collapsed": false
   },
   "outputs": [],
   "source": [
    "'''Storing each review from the positive dataframe into the positive sub-folder'''\n",
    "i=1\n",
    "for index, row in pos.iterrows():\n",
    "    if i > len(pos):\n",
    "        break\n",
    "    else:\n",
    "        f = open(str(i)+'.txt', 'w')\n",
    "        f.write(row[0])\n",
    "        f.close()\n",
    "        i+=1"
   ]
  },
  {
   "cell_type": "code",
   "execution_count": 10,
   "metadata": {
    "collapsed": false
   },
   "outputs": [
    {
     "name": "stdout",
     "output_type": "stream",
     "text": [
      "C:\\Users\\Praveen\\Desktop\\CS-579-Project\\data-LR\\train\\neg\n"
     ]
    }
   ],
   "source": [
    "'''Navigate using cd command to the neg sub-folder under train'''\n",
    "cd C:\\Users\\Praveen\\Desktop\\CS-579-Project\\data-LR\\train\\neg"
   ]
  },
  {
   "cell_type": "code",
   "execution_count": 11,
   "metadata": {
    "collapsed": true
   },
   "outputs": [],
   "source": [
    "'''Storing each review from the negative dataframe into the negative sub-folder'''\n",
    "i=1\n",
    "for index, row in neg.iterrows():\n",
    "    if i > len(neg):\n",
    "        break\n",
    "    else:\n",
    "        f = open(str(i)+'.txt', 'w')\n",
    "        f.write(row[0])\n",
    "        f.close()\n",
    "        i+=1"
   ]
  },
  {
   "cell_type": "code",
   "execution_count": 14,
   "metadata": {
    "collapsed": false
   },
   "outputs": [
    {
     "name": "stdout",
     "output_type": "stream",
     "text": [
      "C:\\Users\\Praveen\\Desktop\\CS-579-Project\n"
     ]
    }
   ],
   "source": [
    "'''Back up again to your working directory using triple cd '''\n",
    "cd .."
   ]
  },
  {
   "cell_type": "code",
   "execution_count": 15,
   "metadata": {
    "collapsed": false
   },
   "outputs": [
    {
     "name": "stdout",
     "output_type": "stream",
     "text": [
      "subdirectories are:['test', 'train']\n"
     ]
    }
   ],
   "source": [
    "'''Setting path and listing out the sub-directories in the specified path'''\n",
    "path = 'data-LR'\n",
    "print('subdirectories are:' + str(os.listdir(path)))"
   ]
  },
  {
   "cell_type": "code",
   "execution_count": 16,
   "metadata": {
    "collapsed": true
   },
   "outputs": [],
   "source": [
    "def get_files(path):\n",
    "    \"\"\" Return a list of file names in this directory that end in .txt \n",
    "    The list should be sorted alphabetically by file name.\n",
    "    Params:\n",
    "        path....a directory containing .txt review files.\n",
    "    Returns:\n",
    "        a list of .txt file names, sorted alphabetically.\n",
    "    \"\"\"\n",
    "    files = os.listdir(path)\n",
    "    res=[]\n",
    "    for f in files:\n",
    "        if f.endswith('.txt'):\n",
    "                res.append((path + os.sep + f))\n",
    "    return sorted(res)"
   ]
  },
  {
   "cell_type": "code",
   "execution_count": 17,
   "metadata": {
    "collapsed": false
   },
   "outputs": [
    {
     "name": "stdout",
     "output_type": "stream",
     "text": [
      "21027\n",
      "22843\n"
     ]
    }
   ],
   "source": [
    "'''Print the length of positive and negative files before splitting test data'''\n",
    "pos_train = get_files(path + os.sep + 'train' + os.sep + 'pos')\n",
    "neg_train = get_files(path + os.sep + 'train' + os.sep + 'neg')\n",
    "all_train = pos_train + neg_train\n",
    "print len(pos_train)\n",
    "print len(neg_train)"
   ]
  },
  {
   "cell_type": "code",
   "execution_count": 18,
   "metadata": {
    "collapsed": true
   },
   "outputs": [],
   "source": [
    "'''Split testing data from the whole dataset'''\n",
    "for i in range(18001,len(pos_train)+1): \n",
    "    shutil.move(\"data-LR/train/pos/\" + str(i)+'.txt', \"data-LR/test/pos/\" + str(i)+'.txt')\n",
    "for i in range(18001,len(neg_train)+1):\n",
    "    shutil.move(\"data-LR/train/neg/\" + str(i)+'.txt', \"data-LR/test/neg/\" + str(i)+'.txt')"
   ]
  },
  {
   "cell_type": "code",
   "execution_count": 19,
   "metadata": {
    "collapsed": false
   },
   "outputs": [
    {
     "name": "stdout",
     "output_type": "stream",
     "text": [
      "18000\n",
      "18000\n"
     ]
    }
   ],
   "source": [
    "'''Print the length of positive and negative training files after splitting test data'''\n",
    "pos_train_files = get_files(path + os.sep + 'train' + os.sep + 'pos')\n",
    "neg_train_files = get_files(path + os.sep + 'train' + os.sep + 'neg')\n",
    "all_train_files = pos_train_files + neg_train_files\n",
    "print len(pos_train_files)\n",
    "print len(neg_train_files)"
   ]
  },
  {
   "cell_type": "code",
   "execution_count": 20,
   "metadata": {
    "collapsed": false
   },
   "outputs": [
    {
     "name": "stdout",
     "output_type": "stream",
     "text": [
      "found 18000 positive and 18000 negative training files\n",
      "first positive file: data-LR\\train\\pos\\1.txt\n",
      "first negative file: data-LR\\train\\neg\\1.txt\n"
     ]
    }
   ],
   "source": [
    "print('found %d positive and %d negative training files' %\n",
    "      (len(pos_train_files), len(neg_train_files)))\n",
    "print('first positive file: %s' % pos_train_files[0])\n",
    "print('first negative file: %s' % neg_train_files[0])"
   ]
  },
  {
   "cell_type": "code",
   "execution_count": 21,
   "metadata": {
    "collapsed": true
   },
   "outputs": [],
   "source": [
    "def get_true_labels(file_names):\n",
    "    \"\"\"Return a *numpy array* of ints for the true sentiment labels of each file.\n",
    "    1 means positive, 0 means negative. Use the name of the file to determine\n",
    "    the true label.\n",
    "    Params:\n",
    "        file_names....a list of .txt file paths, e.g., data/train/pos/10057_9.txt\n",
    "    Returns:\n",
    "        a numpy array of 1 or 0 values corresponding to each element\n",
    "        of file_names, where 1 indicates a positive review, and 0\n",
    "        indicates a negative review.\n",
    "    \"\"\"\n",
    "    x=np.ones((len(file_names[:(len(file_names)/2)]),), dtype=np.int)\n",
    "    y=np.zeros((len(file_names[(len(file_names)/2):]),), dtype=np.int)\n",
    "    z=np.concatenate([x, y])\n",
    "    return z"
   ]
  },
  {
   "cell_type": "code",
   "execution_count": 22,
   "metadata": {
    "collapsed": false
   },
   "outputs": [
    {
     "name": "stdout",
     "output_type": "stream",
     "text": [
      "first 3 and last 3 labels are: [1 1 1 0 0 0]\n"
     ]
    }
   ],
   "source": [
    "labels = get_true_labels(all_train_files)\n",
    "print('first 3 and last 3 labels are: %s' % str(labels[[1,2,3,-3,-2,-1]]))"
   ]
  },
  {
   "cell_type": "code",
   "execution_count": 23,
   "metadata": {
    "collapsed": false
   },
   "outputs": [
    {
     "data": {
      "text/plain": [
       "u\"Coppola brilliantly conjures the young queen's insular world, in which she was both isolated and claustrophobically scrutinized.\""
      ]
     },
     "execution_count": 23,
     "metadata": {},
     "output_type": "execute_result"
    }
   ],
   "source": [
    "def file2string(filename):\n",
    "    return io.open(filename,encoding='utf8').readlines()[0]\n",
    "   \n",
    "file2string(pos_train_files[10])"
   ]
  },
  {
   "cell_type": "code",
   "execution_count": 24,
   "metadata": {
    "collapsed": true
   },
   "outputs": [],
   "source": [
    "def tokenize(text):\n",
    "    \"\"\"Given a string, return a list of tokens such that: (1) all\n",
    "    tokens are lowercase, (2) all punctuation is removed. Note that\n",
    "    underscore (_) is not considered punctuation.\n",
    "    Params:\n",
    "        text....a string\n",
    "    Returns:\n",
    "        a list of tokens\n",
    "    \"\"\"\n",
    "    x=re.findall(r'\\w+',text.lower())\n",
    "    return x"
   ]
  },
  {
   "cell_type": "code",
   "execution_count": 25,
   "metadata": {
    "collapsed": false
   },
   "outputs": [
    {
     "name": "stdout",
     "output_type": "stream",
     "text": [
      "matrix represents 36000 documents with 37810 features\n",
      "first doc has terms:\n",
      "[398, 1485, 2932, 6992, 7317, 10948, 13300, 16539, 17144, 17504, 18345, 21311, 21890, 23100, 30245, 30854, 30981, 32375, 33485]\n"
     ]
    }
   ],
   "source": [
    "def do_vectorize(filenames, tokenizer_fn=tokenize, min_df=1,\n",
    "                 max_df=1., binary=True, ngram_range=(1,1)):\n",
    "    \"\"\"\n",
    "    Convert a list of filenames into a sparse csr_matrix, where\n",
    "    each row is a file and each column represents a unique word.\n",
    "    Use sklearn's CountVectorizer: http://goo.gl/eJ2PJ5\n",
    "    Params:\n",
    "        filenames.......list of review file names\n",
    "        tokenizer_fn....the function used to tokenize each document\n",
    "        min_df..........remove terms from the vocabulary that don't appear\n",
    "                        in at least this many documents\n",
    "        max_df..........remove terms from the vocabulary that appear in more\n",
    "                        than this fraction of documents\n",
    "        binary..........If true, each documents is represented by a binary\n",
    "                        vector, where 1 means a term occurs at least once in \n",
    "                        the document. If false, the term frequency is used instead.\n",
    "        ngram_range.....A tuple (n,m) means to use phrases of length n to m inclusive.\n",
    "                        E.g., (1,2) means consider unigrams and bigrams.\n",
    "    Return:\n",
    "        A tuple (X, vec), where X is the csr_matrix of feature vectors,\n",
    "        and vec is the CountVectorizer object.\n",
    "    \"\"\"\n",
    "    vectorizer = CountVectorizer(input='filename',tokenizer=tokenizer_fn,min_df=min_df,\n",
    "                 max_df=max_df, binary=binary, ngram_range=ngram_range,dtype=int)\n",
    "    dtm = vectorizer.fit_transform(filenames)\n",
    "    \n",
    "    return (dtm,vectorizer)\n",
    "    \n",
    "matrix,vec = do_vectorize(all_train_files)\n",
    "\n",
    "print ('matrix represents %d documents with %d features' % (matrix.shape[0], matrix.shape[1]))\n",
    "print('first doc has terms:\\n%s' % (str(sorted(matrix[0].nonzero()[1]))))"
   ]
  },
  {
   "cell_type": "code",
   "execution_count": 26,
   "metadata": {
    "collapsed": false
   },
   "outputs": [
    {
     "name": "stdout",
     "output_type": "stream",
     "text": [
      "first shuffled document data-LR\\train\\pos\\10103.txt has label 1 and terms: [1442, 1697, 1911, 2049, 2651, 2932, 3106, 5917, 9820, 10213, 10502, 10577, 12545, 12805, 15577, 15968, 17565, 19152, 19277, 21918, 22362, 22628, 29313, 29580, 30008, 30854, 33901]\n"
     ]
    }
   ],
   "source": [
    "# Do not modify. This is to randomize the order of the documents, but\n",
    "# in a way that is consistent across platforms.\n",
    "# You should run this block once to get the shuffled data.\n",
    "def repeatable_random(seed):\n",
    "    hash = str(seed)\n",
    "    while True:\n",
    "        hash = hashlib.md5(hash).digest()\n",
    "        for c in hash:\n",
    "            yield ord(c)\n",
    "\n",
    "def repeatable_shuffle(X, y, filenames):\n",
    "    r = repeatable_random(42) \n",
    "    indices = sorted(range(X.shape[0]), key=lambda x: next(r))\n",
    "    return X[indices], y[indices], np.array(filenames)[indices]\n",
    "\n",
    "X, y, filenames = repeatable_shuffle(matrix, labels, all_train_files)\n",
    "\n",
    "print('first shuffled document %s has label %d and terms: %s' % \n",
    "      (filenames[0], y[0], sorted(X[0].nonzero()[1])))"
   ]
  },
  {
   "cell_type": "markdown",
   "metadata": {},
   "source": [
    "**Logistic Regression**\n",
    "\n",
    "Logistic regression fits a logistic model to data and makes predictions about the probability of an event (between 0 and 1) in our case its going to be either positive or negative. It is a linear model for classification rather than regression. It is also known as logit regression, maximum-entropy classification (MaxEnt) or the log-linear classifier. The goal of this model is to learn from the training data so that you can predict the label of new examples that we haven't seen before and don't know the label of."
   ]
  },
  {
   "cell_type": "code",
   "execution_count": 27,
   "metadata": {
    "collapsed": true
   },
   "outputs": [],
   "source": [
    "# Do not modify. This creates a LogsticRegression object, which\n",
    "# you will use in the do_cross_validation method below.\n",
    "def get_clf():\n",
    "    return LogisticRegression(random_state=42)"
   ]
  },
  {
   "cell_type": "code",
   "execution_count": 28,
   "metadata": {
    "collapsed": false
   },
   "outputs": [
    {
     "name": "stdout",
     "output_type": "stream",
     "text": [
      "fold 0 accuracy=0.7400\n",
      "fold 1 accuracy=0.7409\n",
      "fold 2 accuracy=0.7584\n",
      "fold 3 accuracy=0.7391\n",
      "fold 4 accuracy=0.7418\n",
      "fold 5 accuracy=0.7436\n",
      "fold 6 accuracy=0.7453\n",
      "fold 7 accuracy=0.7416\n",
      "average cross validation accuracy using logistic regression classifier=0.7438\n"
     ]
    }
   ],
   "source": [
    "#Logistic Regression\n",
    "def do_cross_validation_LR(X, y, n_folds=8, verbose=False):\n",
    "    \"\"\"\n",
    "    Perform n-fold cross validation, calling get_clf() to train n\n",
    "    different classifiers. Use sklearn's KFold class: http://goo.gl/wmyFhi\n",
    "    Be sure not to shuffle the data, otherwise your output will differ.\n",
    "    Params:\n",
    "        X.........a csr_matrix of feature vectors\n",
    "        y.........the true labels of each document\n",
    "        n_folds...the number of folds of cross-validation to do\n",
    "        verbose...If true, report the testing accuracy for each fold.\n",
    "    Return:\n",
    "        the average testing accuracy across all folds.\n",
    "    \"\"\"\n",
    "    cv = KFold(len(y), n_folds)\n",
    "    acc = []\n",
    "    n=0\n",
    "    for train_idx, test_idx in cv:\n",
    "        clf = get_clf()\n",
    "        clf.fit(X[train_idx], y[train_idx])\n",
    "        predicted = clf.predict(X[test_idx])\n",
    "        accuracy = accuracy_score(y[test_idx], predicted)\n",
    "        acc.append(accuracy)\n",
    "        if verbose:\n",
    "            print 'fold %d accuracy=%.4f' % (n,accuracy)\n",
    "        n=n+1\n",
    "    avg = np.mean(acc)\n",
    "    return avg\n",
    "    \n",
    "print('average cross validation accuracy using logistic regression classifier=%.4f' %\n",
    "      do_cross_validation_LR(X, y, verbose=True))"
   ]
  },
  {
   "cell_type": "code",
   "execution_count": 29,
   "metadata": {
    "collapsed": true
   },
   "outputs": [],
   "source": [
    "def do_expt_LR(filenames, y, tokenizer_fn=tokenize,\n",
    "            min_df=1, max_df=1., binary=True,\n",
    "            ngram_range=(1,1), n_folds=8):\n",
    "    \"\"\"\n",
    "    Run one experiment, which consists of vectorizing each file,\n",
    "    performing cross-validation, and returning the average accuracy.\n",
    "    You should call do_vectorize and do_cross_validation here.\n",
    "    Params:\n",
    "        filenames.......list of review file names\n",
    "        y...............the true sentiment labels for each file\n",
    "        tokenizer_fn....the function used to tokenize each document\n",
    "        min_df..........remove terms from the vocabulary that don't appear\n",
    "                        in at least this many documents\n",
    "        max_df..........remove terms from the vocabulary that appear in more\n",
    "                        than this fraction of documents\n",
    "        binary..........If true, each documents is represented by a binary\n",
    "                        vector, where 1 means a term occurs at least once in \n",
    "                        the document. If false, the term frequency is used instead.\n",
    "        ngram_range.....A tuple (n,m) means to use phrases of length n to m inclusive.\n",
    "                        E.g., (1,2) means consider unigrams and bigrams.\n",
    "        n_folds.........The number of cross-validation folds to use.\n",
    "    Returns:\n",
    "        the average cross validation testing accuracy.\n",
    "    \"\"\"\n",
    "    m,vec = do_vectorize(filenames,binary=binary,tokenizer_fn=tokenizer_fn,min_df=min_df,max_df=max_df)\n",
    "    res=(do_cross_validation_LR(m,y,n_folds=n_folds))\n",
    "    #avg = np.mean(res)\n",
    "\n",
    "    return res"
   ]
  },
  {
   "cell_type": "code",
   "execution_count": 30,
   "metadata": {
    "collapsed": false
   },
   "outputs": [
    {
     "name": "stdout",
     "output_type": "stream",
     "text": [
      "accuracy using Logistic regression with default settings: 0.7439\n"
     ]
    }
   ],
   "source": [
    "print('accuracy using Logistic regression with default settings: %.4g' % do_expt_LR(filenames, y))"
   ]
  },
  {
   "cell_type": "code",
   "execution_count": 31,
   "metadata": {
    "collapsed": false
   },
   "outputs": [
    {
     "data": {
      "image/png": "[encoded data removed]",
      "text/plain": [
       "<matplotlib.figure.Figure at 0x1a47bc50>"
      ]
     },
     "metadata": {},
     "output_type": "display_data"
    },
    {
     "data": {
      "text/plain": [
       "[0.72994444444444451,\n",
       " 0.74252777777777779,\n",
       " 0.7454722222222222,\n",
       " 0.74533333333333329,\n",
       " 0.74552777777777768,\n",
       " 0.7446666666666667]"
      ]
     },
     "execution_count": 31,
     "metadata": {},
     "output_type": "execute_result"
    }
   ],
   "source": [
    "def compare_n_folds(filenames, y):\n",
    "    \"\"\"\n",
    "    Vary the setting of n_folds parameter in the do_expt \n",
    "    function to be in [2,5,10,15,20,25]. For each setting, call do_expt and \n",
    "    store the resulting accuracy. Plot the accuracies for each setting.\n",
    "    Also return the list of accuracies. Use the default value for all\n",
    "    other arguments to the do_expt function.\n",
    "    Params:\n",
    "        filenames....list of training file names\n",
    "        y............true labels for each file (a numpy array)\n",
    "    Returns:\n",
    "        a list of average testing accuracies, one per fold.\n",
    "    \"\"\"\n",
    "    fold=[2,5,10,15,20,25]\n",
    "    avg_acc_LR=[]\n",
    "    for f in fold:\n",
    "        avg_acc_LR.append(do_expt_LR(filenames,y,n_folds=f))\n",
    "        \n",
    "    plt.xlabel('n_folds')\n",
    "    plt.ylabel('accuracy using LR')\n",
    "    plt.plot(fold,avg_acc_LR,'bo-')\n",
    "    plt.show()\n",
    "    \n",
    "    return avg_acc_LR\n",
    "    \n",
    "compare_n_folds(filenames, y)"
   ]
  },
  {
   "cell_type": "markdown",
   "metadata": {},
   "source": [
    "**Graph inference**\n",
    "\n",
    "When number of folds increases for a fixed amount of data, number of data within each fold decreases. Hence, less data is available for testing. Also, more data is available for training purposes. Therefore, effect of increasing number of folds on accuracy becomes twofold. It trains the model more and tests the model with less data per fold. Hence, accuracy increases."
   ]
  },
  {
   "cell_type": "code",
   "execution_count": 32,
   "metadata": {
    "collapsed": false
   },
   "outputs": [
    {
     "data": {
      "text/plain": [
       "[0.74386111111111108, 0.74344444444444435]"
      ]
     },
     "execution_count": 32,
     "metadata": {},
     "output_type": "execute_result"
    }
   ],
   "source": [
    "def compare_binary(filenames, y):\n",
    "    \"\"\"\n",
    "    How does the binary parameter affect results? \n",
    "    Call do_expt twice, once with binary=True, and once with binary=False.\n",
    "    Return the average accuracies for each. Use the default parameters for the\n",
    "    remaining arguments in do_expt.\n",
    "    Params:\n",
    "        filenames....list of training file names\n",
    "        y............true labels for each file (a numpy array)\n",
    "    Returns:\n",
    "        a list of average testing accuracies. The first entry\n",
    "        is for binary=True, the second is for binary=False.\n",
    "    \"\"\"\n",
    "    avg_LR=[]\n",
    "    avg_LR.append(do_expt_LR(filenames,y,binary=True))\n",
    "    avg_LR.append(do_expt_LR(filenames,y,binary=False))\n",
    "    return avg_LR\n",
    "\n",
    "compare_binary(filenames, y)"
   ]
  },
  {
   "cell_type": "code",
   "execution_count": 33,
   "metadata": {
    "collapsed": true
   },
   "outputs": [],
   "source": [
    "def tokenize_with_punct(text):\n",
    "    \"\"\"Given a string, return a list of tokens such that: (1) all\n",
    "    tokens are lowercase, (2) all punctuation is kept as separate tokens.\n",
    "    Note that underscore (_) is not considered punctuation.\n",
    "    Params:\n",
    "        text....a string\n",
    "    Returns:\n",
    "        a list of tokens\n",
    "    \"\"\"\n",
    "    y=re.sub(r'[\\n\\r\\x85]', ' ', text.lower())\n",
    "    x=re.findall(r\"[\\w]+|[\\S]\", y.lower())\n",
    "    return x"
   ]
  },
  {
   "cell_type": "code",
   "execution_count": 34,
   "metadata": {
    "collapsed": true
   },
   "outputs": [],
   "source": [
    "def tokenize_with_not(text):\n",
    "    \"\"\"Does the same thing as tokenize_with_punct, with the following difference:\n",
    "    whenever the term 'not' appears, change the two subsequent tokens to have the prefix\n",
    "    'not_' prior to the token. See the example below. You may call \n",
    "    tokenize_with_punct as a subroutine.\n",
    "    Params:\n",
    "        text....a string\n",
    "    Returns:\n",
    "        a list of tokens\n",
    "    \"\"\"\n",
    "    res= []\n",
    "    \n",
    "    k=0\n",
    "    for token in tokenize_with_punct(text):\n",
    "        if token == 'not':\n",
    "            k=2\n",
    "            res.append(token)\n",
    "        else:\n",
    "            if k>0:\n",
    "                join = 'not_' + token\n",
    "                res.append(join)\n",
    "                k = k-1\n",
    "            else:\n",
    "                res.append(token)\n",
    "\n",
    "    return res"
   ]
  },
  {
   "cell_type": "code",
   "execution_count": 35,
   "metadata": {
    "collapsed": false
   },
   "outputs": [
    {
     "data": {
      "text/plain": [
       "[0.74386111111111108, 0.7436666666666667, 0.74622222222222223]"
      ]
     },
     "execution_count": 35,
     "metadata": {},
     "output_type": "execute_result"
    }
   ],
   "source": [
    "def tokenizer_expt(all_train_files, y):\n",
    "    \"\"\"\n",
    "    How does the tokenizer affect results? \n",
    "    Call do_expt three times, using three different tokenizers:\n",
    "    1- tokenize\n",
    "    2- tokenize_with_punct\n",
    "    3- tokenize_with_not\n",
    "    Return the average cross-validation accuracy for each approach,\n",
    "    in the above order. Use the default parameters for all other \n",
    "    arguments to do_expt.\n",
    "    Params:\n",
    "        filenames....list of training file names\n",
    "        y............true labels for each file (a numpy array)\n",
    "    Returns:\n",
    "        a list of average testing accuracies for each tokenizer.\n",
    "    \"\"\"\n",
    "    avg_LR=[]\n",
    "    avg_LR.append(do_expt_LR(all_train_files,y,tokenizer_fn=tokenize))\n",
    "    avg_LR.append(do_expt_LR(all_train_files,y,tokenizer_fn=tokenize_with_punct))\n",
    "    avg_LR.append(do_expt_LR(all_train_files,y,tokenizer_fn=tokenize_with_not))\n",
    "    return avg_LR\n",
    "\n",
    "tokenizer_expt(filenames, y)"
   ]
  },
  {
   "cell_type": "code",
   "execution_count": 36,
   "metadata": {
    "collapsed": false
   },
   "outputs": [
    {
     "data": {
      "image/png": "[encoded data removed]",
      "text/plain": [
       "<matplotlib.figure.Figure at 0x1818cda0>"
      ]
     },
     "metadata": {},
     "output_type": "display_data"
    },
    {
     "data": {
      "text/plain": [
       "[0.74622222222222223,\n",
       " 0.74519444444444449,\n",
       " 0.74408333333333332,\n",
       " 0.74391666666666667,\n",
       " 0.74302777777777784,\n",
       " 0.74199999999999999,\n",
       " 0.74086111111111108,\n",
       " 0.74169444444444443,\n",
       " 0.7412777777777777,\n",
       " 0.74086111111111108]"
      ]
     },
     "execution_count": 36,
     "metadata": {},
     "output_type": "execute_result"
    }
   ],
   "source": [
    "def min_df_expt(filenames, y):\n",
    "    \"\"\"\n",
    "    Vary the setting of min_df parameter in the do_expt \n",
    "    function to be ints in the range (1,10) (inclusive). For each setting,\n",
    "    call do_expt and store the resulting accuracy. Plot the accuracies for each setting.\n",
    "    Also return the list of accuracies. Use the default value for all\n",
    "    other arguments to the do_expt function, except that the tokenizer\n",
    "    should be tokenize_with_not.\n",
    "    Params:\n",
    "        filenames....list of training file names\n",
    "        y............true labels for each file (a numpy array)\n",
    "    Returns:\n",
    "        a list of average testing accuracies, one per min_df value.\n",
    "    \"\"\"\n",
    "    avg_LR=[]\n",
    "    for i in range(1,11):\n",
    "        avg_LR.append(do_expt_LR(filenames,y,tokenizer_fn=tokenize_with_not,min_df=i,max_df=1., binary=True, ngram_range=(1,1)))\n",
    "    #plt.plot(avg,color='b')\n",
    "    plt.xlabel('min_df')\n",
    "    plt.ylabel('accuracy using LR')\n",
    "    plt.plot(range(1,11),avg_LR,'bo-')\n",
    "    plt.show()\n",
    "    return avg_LR\n",
    "\n",
    "min_df_expt(filenames, y)"
   ]
  },
  {
   "cell_type": "markdown",
   "metadata": {},
   "source": [
    "**Decline in accuracy**\n",
    "\n",
    "The min_df parameter refers particularly to the cut-off value for ignoring terms that have lower document frequency than the mentioned value. Setting a too low value will ignore very rare terms which doesn't count towards sentiment calculation. A bit higher value will ignore sufficient rare terms which will improve accuracy. If the value is high, the model will ignore necessary terms as well and that's why we observe a decline in accuracy in the right hand side of the above graph."
   ]
  },
  {
   "cell_type": "code",
   "execution_count": 37,
   "metadata": {
    "collapsed": false
   },
   "outputs": [
    {
     "data": {
      "image/png": "[encoded data removed]",
      "text/plain": [
       "<matplotlib.figure.Figure at 0x1b0853c8>"
      ]
     },
     "metadata": {},
     "output_type": "display_data"
    },
    {
     "data": {
      "text/plain": [
       "[0.74316666666666675,\n",
       " 0.74358333333333326,\n",
       " 0.74377777777777776,\n",
       " 0.74438888888888888,\n",
       " 0.74411111111111106,\n",
       " 0.74441666666666662,\n",
       " 0.74424999999999997,\n",
       " 0.74536111111111114,\n",
       " 0.74536111111111114,\n",
       " 0.74519444444444449]"
      ]
     },
     "execution_count": 37,
     "metadata": {},
     "output_type": "execute_result"
    }
   ],
   "source": [
    "def max_df_expt(filenames, y):\n",
    "    \"\"\"\n",
    "    Vary the setting of max_df parameter in the do_expt \n",
    "    function to be one of [.1, .2, .3, .4, .5, .6, .7, .8, .9, 1.].\n",
    "    For each setting, call do_expt and store the resulting accuracy.\n",
    "    Plot the accuracies for each setting. Also return the list of accuracies.\n",
    "    Use the default value for all other arguments to the do_expt function,\n",
    "    except that the tokenizer=tokenize_with_not and min_df=2.\n",
    "    Params:\n",
    "        filenames....list of training file names\n",
    "        y............true labels for each file (a numpy array)\n",
    "    Returns:\n",
    "        a list of average testing accuracies, one per max_df value.\n",
    "    \"\"\"\n",
    "    avg_LR=[]\n",
    "    max = [.1, .2, .3, .4, .5, .6, .7, .8, .9, 1.]\n",
    "    for i in max:\n",
    "        avg_LR.append(do_expt_LR(filenames,y,tokenizer_fn=tokenize_with_not,min_df=2,max_df=i, binary=True, ngram_range=(1,1)))\n",
    "    \n",
    "    plt.xlabel('max_df')\n",
    "    plt.ylabel('accuracy using LR')\n",
    "    plt.plot(max,avg_LR,'bo-')\n",
    "    plt.show()\n",
    "    return avg_LR\n",
    "    \n",
    "max_df_expt(filenames, y)"
   ]
  },
  {
   "cell_type": "code",
   "execution_count": 38,
   "metadata": {
    "collapsed": false
   },
   "outputs": [
    {
     "name": "stdout",
     "output_type": "stream",
     "text": [
      "Logistic Regression classifier accuracy for training data: 0.938\n",
      "Logistic Regression classifier accuracy for test data: 0.74\n"
     ]
    }
   ],
   "source": [
    "X, vec = do_vectorize(filenames, tokenizer_fn=tokenize_with_not,\n",
    "                      binary=True, min_df=2, max_df=.7)\n",
    "X_train, X_test, Y_train, Y_test = train_test_split(X, y, test_size=0.33, random_state=42)\n",
    "clf = get_clf()\n",
    "clf.fit(X_train, Y_train)\n",
    "print 'Logistic Regression classifier accuracy for training data:', round(clf.score(X_train, Y_train), 3)\n",
    "print 'Logistic Regression classifier accuracy for test data:', round(clf.score(X_test, Y_test),3)"
   ]
  },
  {
   "cell_type": "code",
   "execution_count": 39,
   "metadata": {
    "collapsed": false
   },
   "outputs": [
    {
     "name": "stdout",
     "output_type": "stream",
     "text": [
      "<type 'numpy.ndarray'>\n",
      "(1L, 24221L)\n"
     ]
    }
   ],
   "source": [
    "#clf = get_clf()\n",
    "print type(clf.coef_)\n",
    "print clf.coef_.shape"
   ]
  },
  {
   "cell_type": "code",
   "execution_count": 40,
   "metadata": {
    "collapsed": false
   },
   "outputs": [
    {
     "name": "stdout",
     "output_type": "stream",
     "text": [
      "[-0.1601789  -0.3742802  -0.04094723 -0.01446321 -0.25829122 -0.148396\n",
      " -0.1525353   0.35590702 -0.25288177 -0.13078207]\n",
      "[u'!', u'\"', u'#', u'$', u'%', u'&', u\"'\", u'(', u')', u'*']\n"
     ]
    }
   ],
   "source": [
    "# Here are the first 10 coefficients.\n",
    "print (clf.coef_[0][:10])\n",
    "\n",
    "# The features corresponding to them can be found using the vectorizer's get_feature_names method.\n",
    "print(vec.get_feature_names()[:10])"
   ]
  },
  {
   "cell_type": "code",
   "execution_count": 41,
   "metadata": {
    "collapsed": false
   },
   "outputs": [
    {
     "name": "stdout",
     "output_type": "stream",
     "text": [
      "top positive coefs: [(u'exhilarating', 1.8806495874506894), (u'observant', 1.7936650345103218), (u'dazzling', 1.7402614379596228), (u'remarkable', 1.7026976851513291), (u'hilarious', 1.6942880452427078)]\n",
      "top negative coefs: [(u'worst', -2.1926024982375738), (u'dull', -2.0974927865955979), (u'pointless', -2.0165020483092362), (u'unfunny', -1.9745497771120379), (u'muddled', -1.9485014548289517)]\n"
     ]
    }
   ],
   "source": [
    "#Using the Logistic regression classifier\n",
    "def get_top_coefficients(clf, vec, n=10):\n",
    "    \"\"\" Get the top n coefficients for each class (positive/negative).\n",
    "    Params:\n",
    "        clf...a LogisticRegression object that has already been fit to data.\n",
    "        vec...a CountVectorizer\n",
    "        n.....the number of features to print per class.\n",
    "    Returns:\n",
    "        Two lists of tuples. The first list containts the top terms for the positive\n",
    "        class. Each entry is a tuple of (string, float) pairs, where\n",
    "        string is the feature name and float is the coefficient.\n",
    "        The second list is the same but for the negative class.\n",
    "        In each list, entries should be sorted in descending order of \n",
    "        absolute value.\"\"\"\n",
    "    pos=[]\n",
    "    neg=[]\n",
    "    for k,v in enumerate(vec.get_feature_names()):\n",
    "        if clf.coef_[0][k] > 0.:\n",
    "            pos.append((v,clf.coef_[0][k]))\n",
    "        else:\n",
    "            neg.append((v,clf.coef_[0][k]))\n",
    "            \n",
    "    positive = sorted(pos,key=lambda x: x[1],reverse=True)\n",
    "    p1=positive[:n]\n",
    "    negative = sorted(neg,key=lambda x: x[1])\n",
    "    n1=negative[:n]\n",
    "    return (p1,n1)\n",
    "\n",
    "pos_coef, neg_coef = get_top_coefficients(clf, vec, n=5)\n",
    "print('top positive coefs: %s' % str(pos_coef))\n",
    "print('top negative coefs: %s' % str(neg_coef))"
   ]
  },
  {
   "cell_type": "code",
   "execution_count": 42,
   "metadata": {
    "collapsed": false
   },
   "outputs": [
    {
     "data": {
      "text/plain": [
       "13769"
      ]
     },
     "execution_count": 42,
     "metadata": {},
     "output_type": "execute_result"
    }
   ],
   "source": [
    "# Do not modify.\n",
    "def index_of_term(vec, term):\n",
    "    \"\"\" This returns the column index corresponding to this term.\"\"\"\n",
    "    return vec.get_feature_names().index(term)\n",
    "\n",
    "index_of_term(vec, 'movie')"
   ]
  },
  {
   "cell_type": "code",
   "execution_count": 46,
   "metadata": {
    "collapsed": true
   },
   "outputs": [],
   "source": [
    "features = vec.get_feature_names()\n",
    "eyematrix = np.eye(len(features))\n",
    "# compute per-word probability by running I-matrix through our classifier\n",
    "perword_proba = clf.predict_proba(eyematrix)"
   ]
  },
  {
   "cell_type": "code",
   "execution_count": 47,
   "metadata": {
    "collapsed": false
   },
   "outputs": [
    {
     "name": "stdout",
     "output_type": "stream",
     "text": [
      "Top 10 positive Predictor Words according to Logistic Regression classifier: \n",
      "                word  prob negative\n",
      "14980      observant       0.178454\n",
      "5222        dazzling       0.186419\n",
      "17739     remarkable       0.192183\n",
      "9862       hilarious       0.193492\n",
      "22629  unforgettable       0.197206\n",
      "6483        dynamite       0.203187\n",
      "2744     brilliantly       0.206703\n",
      "12925      masterful       0.206972\n",
      "12930    masterpiece       0.210218 \n",
      "\n",
      "Top 10 negative Predictor Words according to Logistic Regression classifier: \n",
      "               word  prob positive\n",
      "6405           dull       0.085936\n",
      "16331     pointless       0.092514\n",
      "22642       unfunny       0.096097\n",
      "13795       muddled       0.098384\n",
      "22796  unsatisfying       0.103929\n",
      "23846       witless       0.109129\n",
      "7561          fails       0.115985\n",
      "13215          mess       0.118060\n",
      "9548       harmless       0.118065\n"
     ]
    }
   ],
   "source": [
    "perword_neg, perword_pos = zip(*perword_proba)\n",
    "# make dict with negative and  positive probs plus actual word\n",
    "perword_dict = {'word':features, 'prob negative':perword_neg, 'prob positive':perword_pos}\n",
    "# convert to df for easier processing\n",
    "perword_df = pd.DataFrame(data = perword_dict)\n",
    "\n",
    "# sort each in descending order, grab top 10, print\n",
    "print 'Top 10 positive Predictor Words according to Logistic Regression classifier: \\n', perword_df.sort(columns='prob positive', ascending=False).iloc[1:10,[2,0]],'\\n'\n",
    "\n",
    "print 'Top 10 negative Predictor Words according to Logistic Regression classifier: \\n', perword_df.sort(columns='prob negative', ascending=False).iloc[1:10,[2,1]]"
   ]
  },
  {
   "cell_type": "code",
   "execution_count": 48,
   "metadata": {
    "collapsed": false
   },
   "outputs": [
    {
     "name": "stdout",
     "output_type": "stream",
     "text": [
      "X_test represents 7870 documents with 24221 features\n",
      "y_test has 3027 positive and 4843 negative labels\n",
      "first testing file is data-LR\\test\\pos\\18001.txt\n",
      "last testing file is data-LR\\test\\neg\\22843.txt\n",
      "testing accuracy=0.7227\n"
     ]
    }
   ],
   "source": [
    "#calculate testing accuracy again by generating vocabulary on reviews present in the test folder. \n",
    "#Here we again use the Logistic regression classifier at first to predict the accuracy on test data.\n",
    "pos_test_files = get_files(path + os.sep + 'test' + os.sep + 'pos')\n",
    "neg_test_files = get_files(path + os.sep + 'test' + os.sep + 'neg')\n",
    "all_test_files = pos_test_files + neg_test_files\n",
    "# Note that we call .transform, not .fit_transform, since we \n",
    "# don't want to learn a new vocabulary.\n",
    "X_test = vec.transform(all_test_files)\n",
    "y_test = np.array([1] * len(pos_test_files) + [0] * len(neg_test_files))\n",
    "print('X_test represents %d documents with %d features' % (X_test.shape[0], X_test.shape[1]))\n",
    "print('y_test has %d positive and %d negative labels' % (len(np.where(y_test==1)[0]),\n",
    "                                                          len(np.where(y_test==0)[0])))\n",
    "print('first testing file is %s' % all_test_files[0])\n",
    "print('last testing file is %s' % all_test_files[-1])\n",
    "print('testing accuracy=%.4g' % accuracy_score(y_test, clf.predict(X_test)))"
   ]
  },
  {
   "cell_type": "code",
   "execution_count": 49,
   "metadata": {
    "collapsed": false
   },
   "outputs": [
    {
     "name": "stdout",
     "output_type": "stream",
     "text": [
      "testing accuracy=0.72503\n"
     ]
    }
   ],
   "source": [
    "def train_after_removing_features(X, y, vec, features_to_remove):\n",
    "    \"\"\"\n",
    "    Set to 0 the columns of X corresponding to the terms in features_to_remove. \n",
    "    Then, train a new classifier on X and y and return the result.\n",
    "    Params:\n",
    "        X....................the training matrix\n",
    "        y....................the true labels for each row in X\n",
    "        features_to_remove...a list of strings (entries in the vocabulary) that\n",
    "                             should be removed from X\n",
    "    Returns:\n",
    "       The classifier fit on the modified X data.\n",
    "    \"\"\"\n",
    "    arr=X.toarray()\n",
    "    shape = X.get_shape()\n",
    "    for each in features_to_remove:\n",
    "        r=0\n",
    "        res=index_of_term(vec,each)\n",
    "        while r<shape[0]:\n",
    "            arr[r][res] = 0\n",
    "            r=r+1\n",
    "    clf = get_clf()\n",
    "    clf.fit(arr, y)\n",
    "    return clf\n",
    "    \n",
    "    \n",
    "clf = train_after_removing_features(X.copy(), y, vec, ['film'])\n",
    "print('testing accuracy=%.5g' % accuracy_score(y_test, clf.predict(X_test)))"
   ]
  },
  {
   "cell_type": "code",
   "execution_count": 50,
   "metadata": {
    "collapsed": false
   },
   "outputs": [
    {
     "data": {
      "text/plain": [
       "[{'filename': 'data-LR\\\\test\\\\pos\\\\20994.txt',\n",
       "  'index': 2993,\n",
       "  'predicted': 0,\n",
       "  'probas': array([ 0.99890797,  0.00109203]),\n",
       "  'truth': 1},\n",
       " {'filename': 'data-LR\\\\test\\\\neg\\\\22197.txt',\n",
       "  'index': 7223,\n",
       "  'predicted': 1,\n",
       "  'probas': array([ 0.00124462,  0.99875538]),\n",
       "  'truth': 0},\n",
       " {'filename': 'data-LR\\\\test\\\\pos\\\\20379.txt',\n",
       "  'index': 2378,\n",
       "  'predicted': 0,\n",
       "  'probas': array([ 0.99869523,  0.00130477]),\n",
       "  'truth': 1},\n",
       " {'filename': 'data-LR\\\\test\\\\neg\\\\21555.txt',\n",
       "  'index': 6581,\n",
       "  'predicted': 1,\n",
       "  'probas': array([ 0.0016089,  0.9983911]),\n",
       "  'truth': 0},\n",
       " {'filename': 'data-LR\\\\test\\\\pos\\\\18440.txt',\n",
       "  'index': 439,\n",
       "  'predicted': 0,\n",
       "  'probas': array([ 0.99726171,  0.00273829]),\n",
       "  'truth': 1},\n",
       " {'filename': 'data-LR\\\\test\\\\pos\\\\20006.txt',\n",
       "  'index': 2005,\n",
       "  'predicted': 0,\n",
       "  'probas': array([ 0.99685599,  0.00314401]),\n",
       "  'truth': 1},\n",
       " {'filename': 'data-LR\\\\test\\\\pos\\\\19188.txt',\n",
       "  'index': 1187,\n",
       "  'predicted': 0,\n",
       "  'probas': array([ 0.99602176,  0.00397824]),\n",
       "  'truth': 1},\n",
       " {'filename': 'data-LR\\\\test\\\\pos\\\\19587.txt',\n",
       "  'index': 1586,\n",
       "  'predicted': 0,\n",
       "  'probas': array([ 0.99571259,  0.00428741]),\n",
       "  'truth': 1},\n",
       " {'filename': 'data-LR\\\\test\\\\pos\\\\18449.txt',\n",
       "  'index': 448,\n",
       "  'predicted': 0,\n",
       "  'probas': array([ 0.99556498,  0.00443502]),\n",
       "  'truth': 1},\n",
       " {'filename': 'data-LR\\\\test\\\\pos\\\\19438.txt',\n",
       "  'index': 1437,\n",
       "  'predicted': 0,\n",
       "  'probas': array([ 0.99472184,  0.00527816]),\n",
       "  'truth': 1}]"
      ]
     },
     "execution_count": 50,
     "metadata": {},
     "output_type": "execute_result"
    }
   ],
   "source": [
    "def get_top_errors(X_test, y_test, filenames, clf, n=10):\n",
    "    \"\"\"\n",
    "    Use clf to predict the labels of the testing data in X_test. \n",
    "    We want to find incorrectly predicted documents. Furthermore, we want to look at those \n",
    "    where the probability of the incorrect label, according to the classifier, is highest.\n",
    "    Use the .predict_proba method of the classifier to get the probabilities of\n",
    "    each class label. Return the n documents that were misclassified, sorted by the\n",
    "    probability of the incorrect label. The returned value is a list of dicts, defined below.\n",
    "    Params:\n",
    "        X_test......the testing matrix\n",
    "        y_test......the true labels for each testing document\n",
    "        filenames...the filenames for each testing document\n",
    "        clf.........a trained LogisticRegression object\n",
    "        n...........the number of errors to return\n",
    "    Returns:\n",
    "        A list of n dicts containing the following key/value pairs:\n",
    "           index: the index of this document (in the filenames array)\n",
    "           probas: a numpy array containing the probability of class 0 and 1\n",
    "           truth: the true label\n",
    "           predicted: the predicted label\n",
    "           filename: the path to the file for this document\n",
    "    \"\"\"\n",
    "    \n",
    "    predict = clf.predict(X_test)\n",
    "    predict_prob = clf.predict_proba(X_test)\n",
    "    res=[]\n",
    "\n",
    "    for i in range(len(predict)):\n",
    "        if predict[i] != y_test[i]:\n",
    "            res.append(({'filename':filenames[i],'index':filenames.index(filenames[i]),'predicted':predict[i],\n",
    "                         'probas':predict_prob[i],'truth':y_test[i]}))\n",
    " \n",
    "    return sorted(res,key=lambda x:abs(max(x['probas'])),reverse=True)[:n]\n",
    " \n",
    "errors = get_top_errors(X_test, y_test, all_test_files, clf)\n",
    "errors"
   ]
  },
  {
   "cell_type": "code",
   "execution_count": 51,
   "metadata": {
    "collapsed": false
   },
   "outputs": [
    {
     "name": "stdout",
     "output_type": "stream",
     "text": [
      "for document data-LR\\test\\pos\\18001.txt, the term most predictive of class 0 is treacly (index=22105)\n",
      "for document data-LR\\test\\pos\\18001.txt, the term most predictive of class 1 is irresistibly (index=11111)\n"
     ]
    }
   ],
   "source": [
    "# Given a document, find the term in it that is most strongly associated\n",
    "# with a given class label, according to a trained classifier.\n",
    "def most_predictive_term_in_doc(instance, clf, class_idx):\n",
    "    \"\"\"\n",
    "    Params:\n",
    "        instance....one row in the X csr_matrix, corresponding to a document.\n",
    "        clf.........a trained LogisticRegression classifier\n",
    "        class_idx...0 or 1. The class for which we should find the most \n",
    "                    predictive term in this document.\n",
    "    Returns:\n",
    "        The index corresponding to the term that appears in this instance\n",
    "        and has the highest coefficient for class class_idx.\n",
    "    \"\"\"\n",
    "    x=instance.toarray()\n",
    "    li=np.array(x).tolist()\n",
    "    tup=[]\n",
    "    for i in li:\n",
    "        for k,v in enumerate(i):\n",
    "            if v == 1:\n",
    "                #word_ind.append(k)\n",
    "                tup.append((k,clf.coef_[0][k]))\n",
    "    if class_idx == 1:\n",
    "        res=sorted(tup,key=lambda x: x[1],reverse=True)[0]\n",
    "    elif class_idx == 0:\n",
    "        res=sorted(tup,key=lambda x:x[1])[0]\n",
    "    \n",
    "    return int(res[0])\n",
    "                  \n",
    "neg_idx = most_predictive_term_in_doc(X_test[0], clf, 0)\n",
    "pos_idx = most_predictive_term_in_doc(X_test[0], clf, 1)\n",
    "print('for document %s, the term most predictive of class 0 is %s (index=%d)' %\n",
    "      (all_test_files[0], vec.get_feature_names()[neg_idx], neg_idx))\n",
    "print('for document %s, the term most predictive of class 1 is %s (index=%d)' %\n",
    "      (all_test_files[0], vec.get_feature_names()[pos_idx], pos_idx))"
   ]
  },
  {
   "cell_type": "code",
   "execution_count": 52,
   "metadata": {
    "collapsed": false
   },
   "outputs": [
    {
     "name": "stdout",
     "output_type": "stream",
     "text": [
      "\"love\" context with window 3: ['drama about doomed love . the film']\n",
      "\"touch\" context with window 5: ['film with a deft comedic touch and a trio of charming']\n"
     ]
    }
   ],
   "source": [
    "def find_contexts(filename, term, window=5):\n",
    "    \"\"\"\n",
    "    Find all context windows in which this term appears in this file.\n",
    "    You should use tokenize_with_not to tokenize this file. \n",
    "    \n",
    "    Params:\n",
    "        filename....the filename for this document.\n",
    "        term........the term to find\n",
    "        window......return this many tokens to the left and this many tokens to\n",
    "                    the right of every occurrence of term in this document\n",
    "    Returns:\n",
    "        a list of strings. Each string contains the matched context window.\n",
    "    \"\"\"\n",
    "    f = open(filename, 'r+').read()\n",
    "    token = tokenize_with_not(f)\n",
    "    res= []\n",
    "    \n",
    "    k=0\n",
    "    for k,v in enumerate(token):\n",
    "        #if cmp(v,term) == 0:\n",
    "        if v == term:\n",
    "            if k+window < len(token):\n",
    "                res.append((' '.join(token[(k-window):(k+window+1)]))) \n",
    "            elif k+window == len(token):\n",
    "                res.append((' '.join(token[(k-window):])))   \n",
    "            else:\n",
    "                res.append((' '.join(token[(k-window):])))\n",
    "                \n",
    "    y = [unicode(i) for i in res]     \n",
    "    return res\n",
    "\n",
    "# Here are some sample outputs on the first test document:\n",
    "print('\"love\" context with window 3: %s' % find_contexts(all_test_files[0], 'love', 3))\n",
    "print('\"touch\" context with window 5: %s' % find_contexts(all_test_files[12], 'touch', 5))\n",
    "#print('\"best\" context: %s' % find_contexts(all_test_files[50], 'best'))\n",
    "#print('\"a\" contexts: %s' % find_contexts(all_test_files[200], 'a'))"
   ]
  },
  {
   "cell_type": "code",
   "execution_count": null,
   "metadata": {
    "collapsed": true
   },
   "outputs": [],
   "source": []
  }
 ],
 "metadata": {
  "kernelspec": {
   "display_name": "Python 2",
   "language": "python",
   "name": "python2"
  },
  "language_info": {
   "codemirror_mode": {
    "name": "ipython",
    "version": 2
   },
   "file_extension": ".py",
   "mimetype": "text/x-python",
   "name": "python",
   "nbconvert_exporter": "python",
   "pygments_lexer": "ipython2",
   "version": "2.7.10"
  }
 },
 "nbformat": 4,
 "nbformat_minor": 0
}
